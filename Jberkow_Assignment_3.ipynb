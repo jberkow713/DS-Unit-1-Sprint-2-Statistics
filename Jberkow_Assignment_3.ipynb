{
  "nbformat": 4,
  "nbformat_minor": 0,
  "metadata": {
    "colab": {
      "name": "Jberkow Assignment 3",
      "provenance": [],
      "collapsed_sections": [],
      "authorship_tag": "ABX9TyMk/282fpIELZTCWthr0TlR",
      "include_colab_link": true
    },
    "kernelspec": {
      "name": "python3",
      "display_name": "Python 3"
    }
  },
  "cells": [
    {
      "cell_type": "markdown",
      "metadata": {
        "id": "view-in-github",
        "colab_type": "text"
      },
      "source": [
        "<a href=\"https://colab.research.google.com/github/jberkow713/DS-Unit-1-Sprint-2-Statistics/blob/master/Jberkow_Assignment_3.ipynb\" target=\"_parent\"><img src=\"https://colab.research.google.com/assets/colab-badge.svg\" alt=\"Open In Colab\"/></a>"
      ]
    },
    {
      "cell_type": "code",
      "metadata": {
        "id": "aqoG8Kkc_83n",
        "colab_type": "code",
        "colab": {
          "base_uri": "https://localhost:8080/",
          "height": 35
        },
        "outputId": "c8573582-4bf4-4b41-8f8a-8425c09cdc6e"
      },
      "source": [
        "\n",
        "\n",
        "# True Positive Rate\n",
        "p_pos_user = 1\n",
        "# Prior\n",
        "p_user = 1/1000\n",
        "# False Positive Rate\n",
        "p_pos_nonuser = .08\n",
        "# Complement Prior \n",
        "p_nonuser = 1-p_user\n",
        "\n",
        "numerator = (p_pos_user*p_user)\n",
        "denominator = (p_pos_user*p_user) + (p_pos_nonuser*p_nonuser)\n",
        "\n",
        "posterior_probability1 = numerator / denominator\n",
        "\n",
        "posterior_probability1"
      ],
      "execution_count": 4,
      "outputs": [
        {
          "output_type": "execute_result",
          "data": {
            "text/plain": [
              "0.012357884330202669"
            ]
          },
          "metadata": {
            "tags": []
          },
          "execution_count": 4
        }
      ]
    },
    {
      "cell_type": "code",
      "metadata": {
        "id": "94_oRT5DFdHQ",
        "colab_type": "code",
        "colab": {
          "base_uri": "https://localhost:8080/",
          "height": 35
        },
        "outputId": "97ab6542-a47e-40b2-a0f7-d0ad05e0038b"
      },
      "source": [
        "# True Positive Rate2\n",
        "p_pos_user = 1\n",
        "# Prior\n",
        "p_user = posterior_probability1\n",
        "# False Positive Rate\n",
        "p_pos_nonuser = .08\n",
        "# Complement Prior \n",
        "p_nonuser = 1-p_user\n",
        "\n",
        "numerator = (p_pos_user*p_user)\n",
        "denominator = (p_pos_user*p_user) + (p_pos_nonuser*p_nonuser)\n",
        "\n",
        "posterior_probability2 = numerator / denominator\n",
        "\n",
        "posterior_probability2"
      ],
      "execution_count": 5,
      "outputs": [
        {
          "output_type": "execute_result",
          "data": {
            "text/plain": [
              "0.13525210993291495"
            ]
          },
          "metadata": {
            "tags": []
          },
          "execution_count": 5
        }
      ]
    },
    {
      "cell_type": "code",
      "metadata": {
        "id": "XHrHVRKNFdRk",
        "colab_type": "code",
        "colab": {
          "base_uri": "https://localhost:8080/",
          "height": 35
        },
        "outputId": "c4ddecec-72e2-494c-8e5c-1bb2228dffa3"
      },
      "source": [
        "# True Positive Rate3\n",
        "p_pos_user = 1\n",
        "# Prior\n",
        "p_user = posterior_probability2\n",
        "# False Positive Rate\n",
        "p_pos_nonuser = .08\n",
        "# Complement Prior \n",
        "p_nonuser = 1-p_user\n",
        "\n",
        "numerator = (p_pos_user*p_user)\n",
        "denominator = (p_pos_user*p_user) + (p_pos_nonuser*p_nonuser)\n",
        "\n",
        "posterior_probability3 = numerator / denominator\n",
        "\n",
        "posterior_probability3"
      ],
      "execution_count": 6,
      "outputs": [
        {
          "output_type": "execute_result",
          "data": {
            "text/plain": [
              "0.6615996951348605"
            ]
          },
          "metadata": {
            "tags": []
          },
          "execution_count": 6
        }
      ]
    },
    {
      "cell_type": "code",
      "metadata": {
        "id": "Z3YLyGDnFdWm",
        "colab_type": "code",
        "colab": {
          "base_uri": "https://localhost:8080/",
          "height": 35
        },
        "outputId": "dfca3520-fe23-4b65-892f-37756bc740a4"
      },
      "source": [
        "#4th test= above .95\n",
        "# True Positive Rate4\n",
        "p_pos_user = 1\n",
        "# Prior\n",
        "p_user = posterior_probability3\n",
        "# False Positive Rate\n",
        "p_pos_nonuser = .08\n",
        "# Complement Prior \n",
        "p_nonuser = 1-p_user\n",
        "\n",
        "numerator = (p_pos_user*p_user)\n",
        "denominator = (p_pos_user*p_user) + (p_pos_nonuser*p_nonuser)\n",
        "\n",
        "posterior_probability4 = numerator / denominator\n",
        "\n",
        "posterior_probability4"
      ],
      "execution_count": 7,
      "outputs": [
        {
          "output_type": "execute_result",
          "data": {
            "text/plain": [
              "0.9606895076105054"
            ]
          },
          "metadata": {
            "tags": []
          },
          "execution_count": 7
        }
      ]
    },
    {
      "cell_type": "code",
      "metadata": {
        "id": "H6Rh7s0CFdZg",
        "colab_type": "code",
        "colab": {
          "base_uri": "https://localhost:8080/",
          "height": 72
        },
        "outputId": "e6759ba9-90cd-4d9a-b77d-f51ef463423c"
      },
      "source": [
        "#2\n",
        "\n",
        "# Activity 2 - Use SciPy to calculate Bayesian confidence intervals\n",
        "# https://docs.scipy.org/doc/scipy/reference/generated/scipy.stats.bayes_mvs.html#scipy.stats.bayes_mvs\n",
        "\n",
        "from scipy import stats\n",
        "import numpy as np\n",
        "\n",
        "coinflips = np.random.binomial(1,.5,50)\n",
        "coinflips"
      ],
      "execution_count": 8,
      "outputs": [
        {
          "output_type": "execute_result",
          "data": {
            "text/plain": [
              "array([1, 0, 0, 0, 1, 0, 0, 1, 0, 0, 1, 0, 0, 0, 0, 0, 1, 0, 0, 1, 0, 1,\n",
              "       0, 1, 1, 1, 1, 0, 0, 1, 1, 1, 1, 0, 0, 1, 1, 1, 1, 1, 1, 0, 1, 1,\n",
              "       1, 0, 0, 0, 1, 0])"
            ]
          },
          "metadata": {
            "tags": []
          },
          "execution_count": 8
        }
      ]
    },
    {
      "cell_type": "code",
      "metadata": {
        "id": "gj8IBR1eHKio",
        "colab_type": "code",
        "colab": {
          "base_uri": "https://localhost:8080/",
          "height": 35
        },
        "outputId": "21efb0d3-30f2-4b39-e957-831a731892d5"
      },
      "source": [
        "coinflips.mean()"
      ],
      "execution_count": 9,
      "outputs": [
        {
          "output_type": "execute_result",
          "data": {
            "text/plain": [
              "0.5"
            ]
          },
          "metadata": {
            "tags": []
          },
          "execution_count": 9
        }
      ]
    },
    {
      "cell_type": "code",
      "metadata": {
        "id": "DQkU4VTVHKpB",
        "colab_type": "code",
        "colab": {
          "base_uri": "https://localhost:8080/",
          "height": 35
        },
        "outputId": "96035210-5821-48a6-c4c6-8b46d59690d9"
      },
      "source": [
        "mean_CI, _, _ = stats.bayes_mvs(coinflips)\n",
        "\n",
        "mean_CI"
      ],
      "execution_count": 11,
      "outputs": [
        {
          "output_type": "execute_result",
          "data": {
            "text/plain": [
              "Mean(statistic=0.5, minmax=(0.3802463648632669, 0.6197536351367331))"
            ]
          },
          "metadata": {
            "tags": []
          },
          "execution_count": 11
        }
      ]
    },
    {
      "cell_type": "code",
      "metadata": {
        "id": "E_qEABprHKux",
        "colab_type": "code",
        "colab": {}
      },
      "source": [
        "def confidence_interval(data, confidence=0.95):\n",
        "  \"\"\"\n",
        "  Calculate a confidence interval around a sample mean for given data.\n",
        "  Using t-distribution and two-tailed test, default 95% confidence. \n",
        "  \n",
        "  Arguments:\n",
        "    data - iterable (list or numpy array) of sample observations\n",
        "    confidence - level of confidence for the interval\n",
        "  \n",
        "  Returns:\n",
        "    tuple of (mean, lower bound, upper bound)\n",
        "  \"\"\"\n",
        "  data = np.array(data)\n",
        "  mean = np.mean(data)\n",
        "  n = len(data)\n",
        "  # pass extra parameter (ddof=1) to calculate **sample** standard deviation\n",
        "  s = data.std(ddof=1)\n",
        "  stderr = s / np.sqrt(n)\n",
        "  # Lookup the t-statistic that corresponds to 95% area under the curve\n",
        "  # for my given degrees of freedom: 49\n",
        "  t = stats.t.ppf((1 + confidence) / 2.0, n - 1)\n",
        "  margin_of_error = t*stderr\n",
        "  return (mean, mean - margin_of_error, mean + margin_of_error)"
      ],
      "execution_count": 0,
      "outputs": []
    },
    {
      "cell_type": "code",
      "metadata": {
        "id": "wQuOj5dDFdcR",
        "colab_type": "code",
        "colab": {
          "base_uri": "https://localhost:8080/",
          "height": 35
        },
        "outputId": "e5927f8d-93c9-4151-a9c1-e5abea6c5c48"
      },
      "source": [
        "confidence_interval(coinflips)"
      ],
      "execution_count": 13,
      "outputs": [
        {
          "output_type": "execute_result",
          "data": {
            "text/plain": [
              "(0.5, 0.35645891182219935, 0.6435410881778006)"
            ]
          },
          "metadata": {
            "tags": []
          },
          "execution_count": 13
        }
      ]
    },
    {
      "cell_type": "code",
      "metadata": {
        "id": "0T0nGZOdOWJW",
        "colab_type": "code",
        "colab": {}
      },
      "source": [
        "import matplotlib.pyplot as plt\n",
        "import pandas as pd\n",
        "import numpy as np\n",
        "%matplotlib inline"
      ],
      "execution_count": 0,
      "outputs": []
    },
    {
      "cell_type": "code",
      "metadata": {
        "id": "J9_YqWrcOWWZ",
        "colab_type": "code",
        "colab": {
          "base_uri": "https://localhost:8080/",
          "height": 35
        },
        "outputId": "28d9d60c-4126-475b-af2b-7628df0e0c77"
      },
      "source": [
        "confidence_interval(coinflips)"
      ],
      "execution_count": 29,
      "outputs": [
        {
          "output_type": "execute_result",
          "data": {
            "text/plain": [
              "(0.5, 0.35645891182219935, 0.6435410881778006)"
            ]
          },
          "metadata": {
            "tags": []
          },
          "execution_count": 29
        }
      ]
    },
    {
      "cell_type": "code",
      "metadata": {
        "id": "YFzItE99OWed",
        "colab_type": "code",
        "colab": {
          "base_uri": "https://localhost:8080/",
          "height": 282
        },
        "outputId": "0e3d8ba2-c3c3-4533-a773-0a8410e79074"
      },
      "source": [
        "#Bayesian error with 90 percent confidence interval\n",
        "plt.errorbar(x=0, y=.5, yerr=.12)\n",
        "plt.show()"
      ],
      "execution_count": 45,
      "outputs": [
        {
          "output_type": "display_data",
          "data": {
            "image/png": "[encoded data removed]",
            "text/plain": [
              "<Figure size 432x288 with 1 Axes>"
            ]
          },
          "metadata": {
            "tags": []
          }
        }
      ]
    },
    {
      "cell_type": "code",
      "metadata": {
        "id": "bDUaT_tklfMX",
        "colab_type": "code",
        "colab": {
          "base_uri": "https://localhost:8080/",
          "height": 282
        },
        "outputId": "f1aad23f-3377-4752-d273-0d818e2cbde0"
      },
      "source": [
        "#Error with Frequentist 95 percent confidence interval\n",
        "plt.errorbar(x=0, y=.5, yerr=.144)\n",
        "plt.show()"
      ],
      "execution_count": 46,
      "outputs": [
        {
          "output_type": "display_data",
          "data": {
            "image/png": "[encoded data removed]",
            "text/plain": [
              "<Figure size 432x288 with 1 Axes>"
            ]
          },
          "metadata": {
            "tags": []
          }
        }
      ]
    },
    {
      "cell_type": "code",
      "metadata": {
        "id": "AZtn38O3mR-L",
        "colab_type": "code",
        "colab": {}
      },
      "source": [
        "#3\n",
        "\n",
        "#Bayesian vs Frequentist \n"
      ],
      "execution_count": 0,
      "outputs": []
    },
    {
      "cell_type": "code",
      "metadata": {
        "id": "QBsR1sN9nPNH",
        "colab_type": "code",
        "colab": {}
      },
      "source": [
        "# Bayesian principles are based on degrees of belief and frequentists based their knowledge on long term frequencies. Frequentists\n",
        "# do not attach values to hypotheses or unknown values, where as Bayesians will create values based more on degrees of belief on these unknown values or equations."
      ],
      "execution_count": 0,
      "outputs": []
    }
  ]
}