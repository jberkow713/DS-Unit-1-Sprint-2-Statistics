{
  "nbformat": 4,
  "nbformat_minor": 0,
  "metadata": {
    "colab": {
      "name": "Jberkow Unit 2 assignment 1, Stats/Probability",
      "provenance": [],
      "collapsed_sections": [],
      "include_colab_link": true
    },
    "kernelspec": {
      "display_name": "Python 3",
      "language": "python",
      "name": "python3"
    },
    "language_info": {
      "codemirror_mode": {
        "name": "ipython",
        "version": 3
      },
      "file_extension": ".py",
      "mimetype": "text/x-python",
      "name": "python",
      "nbconvert_exporter": "python",
      "pygments_lexer": "ipython3",
      "version": "3.7.3"
    }
  },
  "cells": [
    {
      "cell_type": "markdown",
      "metadata": {
        "id": "view-in-github",
        "colab_type": "text"
      },
      "source": [
        "<a href=\"https://colab.research.google.com/github/jberkow713/DS-Unit-1-Sprint-2-Statistics/blob/master/Jberkow_Unit_2_assignment_1%2C_Stats_Probability.ipynb\" target=\"_parent\"><img src=\"https://colab.research.google.com/assets/colab-badge.svg\" alt=\"Open In Colab\"/></a>"
      ]
    },
    {
      "cell_type": "markdown",
      "metadata": {
        "colab_type": "text",
        "id": "eJGtmni-DezY"
      },
      "source": [
        "<img align=\"left\" src=\"https://lever-client-logos.s3.amazonaws.com/864372b1-534c-480e-acd5-9711f850815c-1524247202159.png\" width=200>\n",
        "\n",
        "<br></br>\n",
        "<br></br>\n",
        "\n",
        "## *Data Science Unit 1 Sprint 2 Lesson 1*\n",
        "\n",
        "# Statistics, Probability and Inference\n",
        "\n",
        "## Learning Objectives\n",
        "* [Part 1](#p1): Normal Distribution Revisted\n",
        "* [Part 2](#p2): Student's T Test\n",
        "* [Part 3](#p3): Hypothesis Test & Doing it Live"
      ]
    },
    {
      "cell_type": "markdown",
      "metadata": {
        "id": "WOXkk77hbeP5",
        "colab_type": "text"
      },
      "source": [
        "## What is Descriptive Statistics?\n",
        "\n",
        "<https://statistics.laerd.com/statistical-guides/descriptive-inferential-statistics.php>"
      ]
    },
    {
      "cell_type": "code",
      "metadata": {
        "id": "aGsGGy4Mb9IG",
        "colab_type": "code",
        "outputId": "5f6915ce-a5f3-4867-c415-831e5f6d2c9e",
        "colab": {
          "base_uri": "https://localhost:8080/",
          "height": 206
        }
      },
      "source": [
        "import pandas as pd\n",
        "df = pd.DataFrame({'a': [1,2,3,4,5], 'b': [2,4,6,8,10]})\n",
        "df.head()"
      ],
      "execution_count": 1,
      "outputs": [
        {
          "output_type": "execute_result",
          "data": {
            "text/html": [
              "<div>\n",
              "<style scoped>\n",
              "    .dataframe tbody tr th:only-of-type {\n",
              "        vertical-align: middle;\n",
              "    }\n",
              "\n",
              "    .dataframe tbody tr th {\n",
              "        vertical-align: top;\n",
              "    }\n",
              "\n",
              "    .dataframe thead th {\n",
              "        text-align: right;\n",
              "    }\n",
              "</style>\n",
              "<table border=\"1\" class=\"dataframe\">\n",
              "  <thead>\n",
              "    <tr style=\"text-align: right;\">\n",
              "      <th></th>\n",
              "      <th>a</th>\n",
              "      <th>b</th>\n",
              "    </tr>\n",
              "  </thead>\n",
              "  <tbody>\n",
              "    <tr>\n",
              "      <th>0</th>\n",
              "      <td>1</td>\n",
              "      <td>2</td>\n",
              "    </tr>\n",
              "    <tr>\n",
              "      <th>1</th>\n",
              "      <td>2</td>\n",
              "      <td>4</td>\n",
              "    </tr>\n",
              "    <tr>\n",
              "      <th>2</th>\n",
              "      <td>3</td>\n",
              "      <td>6</td>\n",
              "    </tr>\n",
              "    <tr>\n",
              "      <th>3</th>\n",
              "      <td>4</td>\n",
              "      <td>8</td>\n",
              "    </tr>\n",
              "    <tr>\n",
              "      <th>4</th>\n",
              "      <td>5</td>\n",
              "      <td>10</td>\n",
              "    </tr>\n",
              "  </tbody>\n",
              "</table>\n",
              "</div>"
            ],
            "text/plain": [
              "   a   b\n",
              "0  1   2\n",
              "1  2   4\n",
              "2  3   6\n",
              "3  4   8\n",
              "4  5  10"
            ]
          },
          "metadata": {
            "tags": []
          },
          "execution_count": 1
        }
      ]
    },
    {
      "cell_type": "code",
      "metadata": {
        "id": "K-73WFB5cI1_",
        "colab_type": "code",
        "outputId": "29475c6f-b417-4f20-d8e0-9a97db7bda74",
        "colab": {
          "base_uri": "https://localhost:8080/",
          "height": 300
        }
      },
      "source": [
        "# How can we quickly look at some descriptive statistics of the above dataframe?\n",
        "# All about describing a variable: Its center, its spread, its distribution\n",
        "df.describe()"
      ],
      "execution_count": 2,
      "outputs": [
        {
          "output_type": "execute_result",
          "data": {
            "text/html": [
              "<div>\n",
              "<style scoped>\n",
              "    .dataframe tbody tr th:only-of-type {\n",
              "        vertical-align: middle;\n",
              "    }\n",
              "\n",
              "    .dataframe tbody tr th {\n",
              "        vertical-align: top;\n",
              "    }\n",
              "\n",
              "    .dataframe thead th {\n",
              "        text-align: right;\n",
              "    }\n",
              "</style>\n",
              "<table border=\"1\" class=\"dataframe\">\n",
              "  <thead>\n",
              "    <tr style=\"text-align: right;\">\n",
              "      <th></th>\n",
              "      <th>a</th>\n",
              "      <th>b</th>\n",
              "    </tr>\n",
              "  </thead>\n",
              "  <tbody>\n",
              "    <tr>\n",
              "      <th>count</th>\n",
              "      <td>5.000000</td>\n",
              "      <td>5.000000</td>\n",
              "    </tr>\n",
              "    <tr>\n",
              "      <th>mean</th>\n",
              "      <td>3.000000</td>\n",
              "      <td>6.000000</td>\n",
              "    </tr>\n",
              "    <tr>\n",
              "      <th>std</th>\n",
              "      <td>1.581139</td>\n",
              "      <td>3.162278</td>\n",
              "    </tr>\n",
              "    <tr>\n",
              "      <th>min</th>\n",
              "      <td>1.000000</td>\n",
              "      <td>2.000000</td>\n",
              "    </tr>\n",
              "    <tr>\n",
              "      <th>25%</th>\n",
              "      <td>2.000000</td>\n",
              "      <td>4.000000</td>\n",
              "    </tr>\n",
              "    <tr>\n",
              "      <th>50%</th>\n",
              "      <td>3.000000</td>\n",
              "      <td>6.000000</td>\n",
              "    </tr>\n",
              "    <tr>\n",
              "      <th>75%</th>\n",
              "      <td>4.000000</td>\n",
              "      <td>8.000000</td>\n",
              "    </tr>\n",
              "    <tr>\n",
              "      <th>max</th>\n",
              "      <td>5.000000</td>\n",
              "      <td>10.000000</td>\n",
              "    </tr>\n",
              "  </tbody>\n",
              "</table>\n",
              "</div>"
            ],
            "text/plain": [
              "              a          b\n",
              "count  5.000000   5.000000\n",
              "mean   3.000000   6.000000\n",
              "std    1.581139   3.162278\n",
              "min    1.000000   2.000000\n",
              "25%    2.000000   4.000000\n",
              "50%    3.000000   6.000000\n",
              "75%    4.000000   8.000000\n",
              "max    5.000000  10.000000"
            ]
          },
          "metadata": {
            "tags": []
          },
          "execution_count": 2
        }
      ]
    },
    {
      "cell_type": "markdown",
      "metadata": {
        "id": "wtobOQescQU6",
        "colab_type": "text"
      },
      "source": [
        "## What is Inferential Statistics?\n",
        "\n",
        "<https://slideplayer.com/slide/5130463/16/images/2/Statistical+Inference.jpg>"
      ]
    },
    {
      "cell_type": "markdown",
      "metadata": {
        "id": "zsb1KMUSc2xe",
        "colab_type": "text"
      },
      "source": [
        "## Hypothesis Testing (T-Tests)\n",
        "\n",
        "Drawing conclusions based on probability in the face of randomness"
      ]
    },
    {
      "cell_type": "markdown",
      "metadata": {
        "id": "8y3UAjKk2a9Q",
        "colab_type": "text"
      },
      "source": [
        "\n",
        "\n",
        "Is the sample reflective of our concept of the population?"
      ]
    },
    {
      "cell_type": "code",
      "metadata": {
        "id": "cPn_nCwv2g8u",
        "colab_type": "code",
        "outputId": "8a0e1bba-0138-4f2f-a7b0-a3cebce669f8",
        "colab": {
          "base_uri": "https://localhost:8080/",
          "height": 35
        }
      },
      "source": [
        "# Coinflips example - What is the population?\n",
        "import numpy as np\n",
        "\n",
        "# The probability of a coinflip is the population mean\n",
        "coinflips = np.random.binomial(n=1, p=.5, size=10)\n",
        "\n",
        "coinflips.mean()"
      ],
      "execution_count": 3,
      "outputs": [
        {
          "output_type": "execute_result",
          "data": {
            "text/plain": [
              "0.6"
            ]
          },
          "metadata": {
            "tags": []
          },
          "execution_count": 3
        }
      ]
    },
    {
      "cell_type": "code",
      "metadata": {
        "id": "ru570a9zLsNw",
        "colab_type": "code",
        "outputId": "7e17470b-5a48-4bd4-82a9-6ce4fb6791e2",
        "colab": {
          "base_uri": "https://localhost:8080/",
          "height": 182
        }
      },
      "source": [
        "pd.Series(coinflips).describe()"
      ],
      "execution_count": 4,
      "outputs": [
        {
          "output_type": "execute_result",
          "data": {
            "text/plain": [
              "count    10.000000\n",
              "mean      0.600000\n",
              "std       0.516398\n",
              "min       0.000000\n",
              "25%       0.000000\n",
              "50%       1.000000\n",
              "75%       1.000000\n",
              "max       1.000000\n",
              "dtype: float64"
            ]
          },
          "metadata": {
            "tags": []
          },
          "execution_count": 4
        }
      ]
    },
    {
      "cell_type": "markdown",
      "metadata": {
        "id": "uckTDVzW2mI9",
        "colab_type": "text"
      },
      "source": [
        "If we repeat the sampling why does our estimate of the mean move around so much? "
      ]
    },
    {
      "cell_type": "code",
      "metadata": {
        "id": "MruqBL-V2lmk",
        "colab_type": "code",
        "outputId": "4d6405a4-c8d5-489b-8559-666c3e28a2fc",
        "colab": {
          "base_uri": "https://localhost:8080/",
          "height": 35
        }
      },
      "source": [
        "# Coinflips example - See the implications of randomness\n",
        "coinflips = np.random.binomial(n=1, p=.5, size=10)\n",
        "\n",
        "coinflips.mean()"
      ],
      "execution_count": 7,
      "outputs": [
        {
          "output_type": "execute_result",
          "data": {
            "text/plain": [
              "0.5"
            ]
          },
          "metadata": {
            "tags": []
          },
          "execution_count": 7
        }
      ]
    },
    {
      "cell_type": "markdown",
      "metadata": {
        "id": "xg-71rfp23Pn",
        "colab_type": "text"
      },
      "source": [
        "What happens as I increase the sample size? The sample mean deviates less from the...?"
      ]
    },
    {
      "cell_type": "code",
      "metadata": {
        "id": "C9SjxA0z3FdT",
        "colab_type": "code",
        "outputId": "1039a53d-b921-41bb-8f36-5b9b4c72c147",
        "colab": {
          "base_uri": "https://localhost:8080/",
          "height": 35
        }
      },
      "source": [
        "# More Information -> Greater Confidence in the face of randomness\n",
        "# p = probability of heads\n",
        "coinflips = np.random.binomial(n=1, p=.5, size=1000)\n",
        "# sample mean\n",
        "coinflips.mean()"
      ],
      "execution_count": 8,
      "outputs": [
        {
          "output_type": "execute_result",
          "data": {
            "text/plain": [
              "0.469"
            ]
          },
          "metadata": {
            "tags": []
          },
          "execution_count": 8
        }
      ]
    },
    {
      "cell_type": "markdown",
      "metadata": {
        "id": "oOkPnjOmNOhw",
        "colab_type": "text"
      },
      "source": [
        "## Standard Error\n",
        "\n",
        "Quantifies how much our sample mean moves around\n",
        "\n",
        "s = sample standard deviation\n",
        "n = our sample size\n",
        "\n",
        "As sample size increases, the Standard Error goes down.\n",
        "\n",
        "As sample size decreases, the Standard Error goes up."
      ]
    },
    {
      "cell_type": "markdown",
      "metadata": {
        "id": "bohfYwWc624k",
        "colab_type": "text"
      },
      "source": [
        "![Standard Error of the Sample  Mean](https://jungminded.weebly.com/uploads/1/3/5/8/13582285/7285766_orig.jpeg?160)"
      ]
    },
    {
      "cell_type": "markdown",
      "metadata": {
        "id": "7f7Rw9fF3V3k",
        "colab_type": "text"
      },
      "source": [
        "**Conclusion: As our sample size goes up, our estimates (of the mean in this case) get more precise, allowing us to infer things about the population with greater confidence.**\n",
        "\n"
      ]
    },
    {
      "cell_type": "markdown",
      "metadata": {
        "id": "BoAazT-O3-Wm",
        "colab_type": "text"
      },
      "source": [
        "## One Sample T-test\n",
        "\n",
        "What if I didn't have a fair coin?\n",
        "\n",
        "Comparing information from a sample against our concept of the population.\n",
        "\n",
        "![One Sample T Statistic](https://lh3.googleusercontent.com/proxy/CXO8J4hOx3DqUt-vfRfmKN-B9IL0wNZlnbQ6lXnopiAAGQWtLIY-f4qD_2zCX_C3p_aaqi9-Qni2MqUD8mVbnnXWEy-AtAywlEp7bUZuMWIZwmvbFJFhdeHcUY5v-i3vcdg5cL9jdh6votwdHnFd44uE)\n",
        "\n",
        "### Lets Play a Game...\n",
        "\n",
        "Get out a coin, and everytime that it is heads, I give Gwen a dollar. Everytime that is tails, Gwen gives me a dollar.\n",
        "\n"
      ]
    },
    {
      "cell_type": "markdown",
      "metadata": {
        "id": "J_229CQ-4Wx6",
        "colab_type": "text"
      },
      "source": [
        "## The T-test Process:\n",
        "\n",
        "Working with an unfair coin here:\n",
        "\n",
        "Probability of Heads = .6"
      ]
    },
    {
      "cell_type": "code",
      "metadata": {
        "id": "DZLJRz_aOkhI",
        "colab_type": "code",
        "outputId": "fa668419-5343-44cc-f554-8e01f33f1d38",
        "colab": {
          "base_uri": "https://localhost:8080/",
          "height": 35
        }
      },
      "source": [
        "coinflips = np.random.binomial(n=1, p=.6, size=10)\n",
        "\n",
        "coinflips"
      ],
      "execution_count": 9,
      "outputs": [
        {
          "output_type": "execute_result",
          "data": {
            "text/plain": [
              "array([0, 1, 1, 1, 1, 0, 1, 0, 1, 0])"
            ]
          },
          "metadata": {
            "tags": []
          },
          "execution_count": 9
        }
      ]
    },
    {
      "cell_type": "markdown",
      "metadata": {
        "id": "_audo2I0O0xl",
        "colab_type": "text"
      },
      "source": [
        "### Say that I came to the scenario not knowing if this was a fair coin or not. \n",
        "\n",
        "How many times do I need to lose before I start get suspicious about this not being a fair coin?\n",
        "\n",
        "Is there a way that I can mathematically test the fairness of this coin?\n",
        "\n",
        "T-test: Compares a sample to a concept of a population, and tells me whether or not that sample is reflective of the population or not.\n",
        "\n",
        "Concept of the Population: This is a fair coin p=.5\n",
        "\n",
        "Sample: ... We'll see what it says\n"
      ]
    },
    {
      "cell_type": "markdown",
      "metadata": {
        "id": "L0OcBqbsPoKl",
        "colab_type": "text"
      },
      "source": [
        "## Establish the parts of a 1-sample T-test\n",
        "\n",
        "**Null Hypothesis**: This is a fair coin. My concept of the population is correct $p(heads) == .5$\n",
        "\n",
        "$H_0: \\mu == \\bar{x}$\n",
        "\n",
        "My population mean ($\\mu$) is equal to my sample mean ($\\bar{x}$)\n",
        "\n",
        "**Alternative Hypothesis**: (The opposite) My population mean is different than my sample mean\n",
        "\n",
        "$H_a: \\mu \\neq \\bar{x}$\n",
        "\n",
        "My population mean ($\\mu$) is not equal to my sample mean ($\\bar{x}$)\n",
        "\n",
        "**Confidence Level**: 95% Confidence Level: I am willing to be tricked  by the randomness of the sampling process 5% of the time. We could draw the wrong conclusion 5% of the time due to the randomness of sampling.\n",
        "\n",
        "This also means that I want to be 95% confidence that my null hypothesis is false before I reject it. \n",
        "\n",
        "I want to be less than 5% confident that my null hypothesis is true, before I will reject it. \n",
        "\n"
      ]
    },
    {
      "cell_type": "code",
      "metadata": {
        "id": "2gDTFUH14mtN",
        "colab_type": "code",
        "outputId": "61ddfc35-b02f-4c56-88c3-2bec3bd8bb8c",
        "colab": {
          "base_uri": "https://localhost:8080/",
          "height": 35
        }
      },
      "source": [
        "# Lets use a tool called a t-test to test if this is a fair coin or not\n",
        "from scipy import stats\n",
        "\n",
        "# Sample, Null Hypothesis Value (Concept of the population, fair coin == .5 )\n",
        "# Is my sample reflective of my concept of the population\n",
        "# If there's a low probability that my sample is representative of the population\n",
        "# Then I will reject my null hypothesis that the coin is a fair coin. \n",
        "stats.ttest_1samp(coinflips, .5)"
      ],
      "execution_count": 10,
      "outputs": [
        {
          "output_type": "execute_result",
          "data": {
            "text/plain": [
              "Ttest_1sampResult(statistic=0.6123724356957945, pvalue=0.5554454421055857)"
            ]
          },
          "metadata": {
            "tags": []
          },
          "execution_count": 10
        }
      ]
    },
    {
      "cell_type": "markdown",
      "metadata": {
        "id": "05Z0_ykGPw2W",
        "colab_type": "text"
      },
      "source": [
        "T-statistic: 2.25 \n",
        "\n",
        "**P-value**: .051\n",
        "\n",
        "P-value: The probability that the null hypothesis is true, given the sample that I have collected/observed\n",
        "\n",
        "5.1%\n",
        "\n",
        "Based on this p-value, should I reject or fail to reject the null hypothesis?\n",
        "\n",
        "Critical Value = Probability threshold for reject vs fail to reject. (1-Confidence Level) i.e. (1-.95==.05)\n",
        "\n",
        "p-value >= .05 -> Fail to reject the null hypothesis\n",
        "\n",
        "p-value < .05 -> Reject the null hypothesis\n",
        "\n",
        "Conclusion: Based on a p-value of .051 I fail to reject the null hypothesis that my sample mean of coinflips is equal to my population mean of coinflips. I cannot say that this isn't a fair coin. "
      ]
    },
    {
      "cell_type": "code",
      "metadata": {
        "id": "wIv_8Qe84pR8",
        "colab_type": "code",
        "outputId": "a176ed87-aae1-4b5d-bc46-cec5b46f7335",
        "colab": {
          "base_uri": "https://localhost:8080/",
          "height": 35
        }
      },
      "source": [
        "# Lets increase the sample size\n",
        "# Sample size of 20\n",
        "coinflips = np.random.binomial(n=1, p=.6, size=50)\n",
        "stats.ttest_1samp(coinflips, .5)"
      ],
      "execution_count": 11,
      "outputs": [
        {
          "output_type": "execute_result",
          "data": {
            "text/plain": [
              "Ttest_1sampResult(statistic=2.041666666666667, pvalue=0.046587573163795186)"
            ]
          },
          "metadata": {
            "tags": []
          },
          "execution_count": 11
        }
      ]
    },
    {
      "cell_type": "markdown",
      "metadata": {
        "id": "C4h8z74IUpa7",
        "colab_type": "text"
      },
      "source": [
        "Conclusion: Based on a p-value of .0466 I reject the null hypothesis that my sample mean of coinflips is equal to my population mean of coinflips. There is less than a 5% chance that this is a fair coin give nthe sample that we observed. This is suggestive of the alternative hypothesis."
      ]
    },
    {
      "cell_type": "code",
      "metadata": {
        "id": "4DZ3G7YoTolw",
        "colab_type": "code",
        "outputId": "8975ca7a-1ce8-4786-aa4c-1b42539b4f16",
        "colab": {
          "base_uri": "https://localhost:8080/",
          "height": 72
        }
      },
      "source": [
        "coinflips"
      ],
      "execution_count": 14,
      "outputs": [
        {
          "output_type": "execute_result",
          "data": {
            "text/plain": [
              "array([1, 1, 1, 0, 1, 0, 1, 1, 0, 1, 1, 1, 0, 0, 1, 1, 1, 0, 1, 1, 1, 1,\n",
              "       1, 1, 1, 0, 1, 1, 0, 1, 1, 1, 0, 1, 1, 0, 1, 0, 0, 0, 1, 0, 0, 0,\n",
              "       1, 0, 1, 0, 1, 1])"
            ]
          },
          "metadata": {
            "tags": []
          },
          "execution_count": 14
        }
      ]
    },
    {
      "cell_type": "markdown",
      "metadata": {
        "id": "XxHwLP7LXBNt",
        "colab_type": "text"
      },
      "source": [
        "## As our sample means gets further  away from our population mean (null hypothesis value) our p-value should decrease\n",
        "\n",
        "We have to make sure that every other aspect of our test stays the same besides the distance between those two values"
      ]
    },
    {
      "cell_type": "code",
      "metadata": {
        "id": "MhLKDQZAXOmX",
        "colab_type": "code",
        "outputId": "263e0975-17ab-4ea1-b369-f04efa698d0b",
        "colab": {
          "base_uri": "https://localhost:8080/",
          "height": 54
        }
      },
      "source": [
        "coinflips = np.random.binomial(n=1, p=.6, size=20)\n",
        "\n",
        "print(coinflips.mean())\n",
        "\n",
        "stats.ttest_1samp(coinflips, .5)"
      ],
      "execution_count": 19,
      "outputs": [
        {
          "output_type": "stream",
          "text": [
            "0.7\n"
          ],
          "name": "stdout"
        },
        {
          "output_type": "execute_result",
          "data": {
            "text/plain": [
              "Ttest_1sampResult(statistic=1.9023794624226835, pvalue=0.07239002577225488)"
            ]
          },
          "metadata": {
            "tags": []
          },
          "execution_count": 19
        }
      ]
    },
    {
      "cell_type": "code",
      "metadata": {
        "id": "f6GCQyhXXeaF",
        "colab_type": "code",
        "outputId": "1d95ae93-1e52-488c-c8e8-b4b72b0b1a06",
        "colab": {
          "base_uri": "https://localhost:8080/",
          "height": 54
        }
      },
      "source": [
        "coinflips = np.random.binomial(n=1, p=.6, size=20)\n",
        "\n",
        "print(coinflips.mean())\n",
        "\n",
        "stats.ttest_1samp(coinflips, .5)"
      ],
      "execution_count": 25,
      "outputs": [
        {
          "output_type": "stream",
          "text": [
            "0.65\n"
          ],
          "name": "stdout"
        },
        {
          "output_type": "execute_result",
          "data": {
            "text/plain": [
              "Ttest_1sampResult(statistic=1.3708103001950633, pvalue=0.18641143545847969)"
            ]
          },
          "metadata": {
            "tags": []
          },
          "execution_count": 25
        }
      ]
    },
    {
      "cell_type": "code",
      "metadata": {
        "id": "zqAnIIxwXjq0",
        "colab_type": "code",
        "outputId": "cb88acaa-4150-4cb4-d4f7-f75b0fa7bfb8",
        "colab": {
          "base_uri": "https://localhost:8080/",
          "height": 54
        }
      },
      "source": [
        "coinflips = np.random.binomial(n=1, p=.6, size=20)\n",
        "\n",
        "print(coinflips.mean())\n",
        "\n",
        "stats.ttest_1samp(coinflips, .5)"
      ],
      "execution_count": 26,
      "outputs": [
        {
          "output_type": "stream",
          "text": [
            "0.35\n"
          ],
          "name": "stdout"
        },
        {
          "output_type": "execute_result",
          "data": {
            "text/plain": [
              "Ttest_1sampResult(statistic=-1.3708103001950633, pvalue=0.18641143545847969)"
            ]
          },
          "metadata": {
            "tags": []
          },
          "execution_count": 26
        }
      ]
    },
    {
      "cell_type": "markdown",
      "metadata": {
        "id": "Mo5NFEDr5JiI",
        "colab_type": "text"
      },
      "source": [
        "## Two Sample T-test\n",
        "\n",
        "Comparing two groups or samples against each other rather than a single sample against a population. "
      ]
    },
    {
      "cell_type": "markdown",
      "metadata": {
        "id": "cOnNrJembf5c",
        "colab_type": "text"
      },
      "source": [
        "\n",
        "\n",
        "Ever thought about how long it takes to make a pancake? Have you ever compared the tooking time of a pancake on each eye of your stove? Is the cooking time different between the different eyes? Now, we can run an experiment and collect a sample of 1,000 pancakes on one eye and another 800 pancakes on the other eye. Assumed we used the same pan, batter, and technique on both eyes. Our average cooking times were 180 (5 std) and 178.5 (4.25 std) seconds repsectively. Now, we can tell those numbers are not identicial, but how confident are we that those numbers are practically the same? How do we know the slight difference isn't caused by some external randomness?\n",
        "\n",
        "Yes, today's lesson will help you figure out how long to cook your pancakes (*theoretically*). Experimentation is up to you; otherwise, you have to accept my data as true. How are going to accomplish this? With probability, statistics, inference and maple syrup (optional). \n",
        "\n",
        "<img src=\"https://images.unsplash.com/photo-1541288097308-7b8e3f58c4c6?ixlib=rb-1.2.1&ixid=eyJhcHBfaWQiOjEyMDd9&auto=format&fit=crop&w=3300&q=80\" width=400>\n",
        "\n"
      ]
    },
    {
      "cell_type": "code",
      "metadata": {
        "colab_type": "code",
        "id": "a3Vm_leYa1AQ",
        "colab": {
          "base_uri": "https://localhost:8080/",
          "height": 1000
        },
        "outputId": "f06c7317-cbaa-4c15-942f-06544af34e9e"
      },
      "source": [
        "xbar1 = 180 # sample mean 1\n",
        "s1 = 5 # sample standard deviation 1\n",
        "\n",
        "sample1 = np.random.normal(xbar1, s1, 1000)\n",
        "\n",
        "sample1"
      ],
      "execution_count": 27,
      "outputs": [
        {
          "output_type": "execute_result",
          "data": {
            "text/plain": [
              "array([182.15595655, 185.63552564, 178.69583544, 183.08324908,\n",
              "       175.98723373, 174.76101388, 178.54542784, 181.78421211,\n",
              "       180.62435584, 176.97633036, 183.13086079, 179.28068347,\n",
              "       180.03586276, 180.28526351, 178.32719654, 189.06162575,\n",
              "       180.4870161 , 183.96382334, 173.00075695, 177.74173307,\n",
              "       184.86657699, 182.54255892, 174.86770494, 178.8760997 ,\n",
              "       183.08443644, 177.30553592, 185.13768005, 186.118983  ,\n",
              "       180.26443491, 180.67934818, 178.33240012, 178.8672235 ,\n",
              "       172.09247487, 184.83132948, 182.56884172, 176.79833259,\n",
              "       195.94086033, 180.76212592, 174.71569876, 175.90569449,\n",
              "       175.97617643, 182.10960703, 177.46516715, 171.55182853,\n",
              "       186.19818212, 176.57021161, 184.17900191, 178.91717664,\n",
              "       182.22475727, 177.0405534 , 162.69028811, 179.93533164,\n",
              "       175.60519301, 187.70268644, 192.60707699, 173.65968949,\n",
              "       178.36214725, 184.4783991 , 187.9613053 , 189.77277611,\n",
              "       190.43224368, 182.45371871, 182.31661216, 182.39493677,\n",
              "       181.83217343, 185.86360191, 175.7410731 , 189.20518197,\n",
              "       171.01386439, 173.12220795, 177.86147005, 169.22088754,\n",
              "       176.13750954, 183.49162263, 177.18316175, 185.41397948,\n",
              "       174.77421562, 185.64635258, 169.7566745 , 176.64336479,\n",
              "       178.3638234 , 186.43152256, 172.38685639, 176.44005773,\n",
              "       181.87022076, 175.03158695, 172.55106212, 186.26828397,\n",
              "       184.26954712, 181.6222756 , 185.02070511, 182.15165949,\n",
              "       174.1186593 , 185.70751872, 182.15093076, 181.18054691,\n",
              "       179.72475137, 182.09778262, 187.96470079, 185.45831121,\n",
              "       179.18305351, 174.64432432, 176.73770722, 173.94487434,\n",
              "       182.51054492, 173.27665825, 181.65156399, 179.55823447,\n",
              "       178.90445707, 183.84617788, 184.93128026, 184.30710099,\n",
              "       180.53359688, 174.96675881, 175.62133036, 177.7455888 ,\n",
              "       184.02648236, 173.64382746, 183.17939949, 180.76826008,\n",
              "       185.42206844, 181.91345768, 179.13118699, 179.52448563,\n",
              "       166.74875728, 181.78204781, 176.7424016 , 187.09260486,\n",
              "       188.58804277, 180.97874704, 178.67705126, 181.57387598,\n",
              "       182.92261172, 175.45689083, 169.86236722, 177.7019226 ,\n",
              "       173.2891916 , 173.16031205, 185.77080078, 191.84954936,\n",
              "       183.05444434, 172.65864678, 178.9116043 , 186.87549828,\n",
              "       172.42758357, 184.56686149, 179.05176288, 177.85096969,\n",
              "       185.2209114 , 185.22904349, 184.36588615, 180.43324919,\n",
              "       178.62628533, 169.8410531 , 178.68911418, 180.7162778 ,\n",
              "       170.15994959, 181.9614429 , 171.21057119, 171.44339575,\n",
              "       181.4610641 , 180.7059484 , 184.6211072 , 184.60463182,\n",
              "       181.72417275, 178.49894079, 187.51192372, 175.12336037,\n",
              "       183.0871073 , 178.92437686, 174.45783227, 177.8496965 ,\n",
              "       179.89456464, 176.12602906, 181.93751014, 182.54314957,\n",
              "       173.88482689, 185.04819161, 182.86910909, 177.98477591,\n",
              "       180.21639028, 176.22980103, 181.10915848, 177.66953893,\n",
              "       183.36844932, 190.12413757, 174.82026335, 180.09551555,\n",
              "       181.84942932, 181.98100901, 181.44031615, 185.64889347,\n",
              "       182.3442682 , 183.55499993, 172.56143379, 181.00024556,\n",
              "       179.86527365, 169.50109879, 181.33380535, 177.29644638,\n",
              "       181.52833338, 172.74318178, 184.04127223, 173.44351853,\n",
              "       190.60902849, 182.2122316 , 178.97188909, 181.15526169,\n",
              "       183.04482708, 175.34120063, 177.95514325, 188.71033597,\n",
              "       185.59414957, 176.56152421, 178.04470185, 186.86740146,\n",
              "       181.86442638, 172.37729021, 180.02311795, 186.36077943,\n",
              "       186.23898479, 184.14050302, 173.84690996, 175.11565357,\n",
              "       176.24141142, 183.122791  , 181.29440997, 177.10260932,\n",
              "       172.74172122, 181.08806483, 174.95649573, 185.73416238,\n",
              "       167.4152992 , 187.20764644, 180.06694807, 184.16096447,\n",
              "       188.19614562, 178.85909741, 169.99348885, 169.94548849,\n",
              "       179.61936411, 180.9237861 , 183.1864174 , 182.24339764,\n",
              "       181.59979331, 181.74199602, 176.9995511 , 194.69566464,\n",
              "       175.72045719, 178.4804415 , 178.18855329, 177.99047242,\n",
              "       184.96450344, 187.56255852, 183.78727936, 182.0803099 ,\n",
              "       175.07976077, 186.06187076, 181.67375403, 183.23220366,\n",
              "       180.58316552, 176.17369174, 178.12505524, 172.69378089,\n",
              "       174.08066267, 172.23067551, 184.02142214, 191.68584137,\n",
              "       182.78811123, 189.78282657, 178.35002296, 170.41125725,\n",
              "       183.89136432, 182.11354153, 173.63581373, 181.16166724,\n",
              "       185.50430269, 174.57188894, 175.71520437, 177.77638223,\n",
              "       179.40243909, 175.54631837, 180.27299842, 184.40094613,\n",
              "       181.9615615 , 182.44446079, 178.03212961, 181.91071479,\n",
              "       176.98970469, 191.89158951, 173.31029417, 174.00942134,\n",
              "       172.33419151, 185.12515151, 173.47021512, 180.1871158 ,\n",
              "       173.37898079, 185.56901655, 184.12881087, 179.51100038,\n",
              "       176.84146211, 177.71580241, 174.86296318, 184.15695436,\n",
              "       180.07535018, 175.51589225, 177.0068517 , 172.79271815,\n",
              "       169.57293871, 177.82502977, 179.08859599, 182.84169434,\n",
              "       176.23969611, 179.66868684, 186.06870684, 187.57886351,\n",
              "       178.59271479, 178.35674858, 176.24018625, 181.88988236,\n",
              "       186.43767801, 169.72329682, 176.53728422, 186.40382921,\n",
              "       179.21455628, 178.35753373, 177.21202629, 175.93890527,\n",
              "       177.20443103, 176.51747009, 183.87710354, 174.36450029,\n",
              "       184.04205204, 184.80040795, 164.52749655, 170.72437971,\n",
              "       172.45539983, 177.19204002, 180.26286132, 179.48050929,\n",
              "       182.51042294, 186.72130362, 170.88145807, 177.33195755,\n",
              "       178.77497622, 181.22051196, 184.32252477, 181.78539997,\n",
              "       176.26889255, 178.92744662, 184.39607042, 180.71600104,\n",
              "       179.15480008, 185.53029415, 187.31844681, 178.9257383 ,\n",
              "       179.94444968, 179.41126925, 188.18087705, 180.74797201,\n",
              "       179.40044595, 179.02436202, 185.71771635, 180.97550332,\n",
              "       178.82030249, 193.76500476, 181.34595343, 172.72831682,\n",
              "       181.9345101 , 176.93237477, 181.58035854, 179.58337071,\n",
              "       189.10824617, 176.99710227, 181.81876991, 180.90496509,\n",
              "       177.87315841, 187.40673709, 175.9401849 , 176.95464771,\n",
              "       178.03535035, 183.0022887 , 180.69969837, 180.11522514,\n",
              "       167.78272   , 174.80777537, 180.59976793, 187.55436652,\n",
              "       178.08262582, 183.14181277, 172.52850343, 179.86037735,\n",
              "       181.01103861, 180.23089445, 179.26752323, 181.96323753,\n",
              "       183.02648747, 181.06737514, 184.15162064, 185.07889314,\n",
              "       179.23202273, 186.17949642, 178.23601566, 178.82715932,\n",
              "       178.33579481, 180.30331307, 180.67007193, 181.38957791,\n",
              "       181.09758359, 182.14068028, 176.38015717, 178.60457108,\n",
              "       183.76380556, 185.06207168, 177.69451012, 180.24987051,\n",
              "       175.84499122, 176.43793048, 178.15603282, 177.17110876,\n",
              "       185.64316145, 182.43764961, 177.55806643, 176.33675945,\n",
              "       169.49459152, 185.37340467, 182.74550804, 180.17739821,\n",
              "       186.75632577, 175.12650673, 173.82685723, 183.46536588,\n",
              "       182.259362  , 183.36742577, 178.99066405, 173.97036881,\n",
              "       184.96917518, 180.08736094, 188.6561137 , 177.60084436,\n",
              "       180.36290918, 184.33776991, 183.91663161, 168.31381396,\n",
              "       176.00757204, 170.7914599 , 182.12685667, 177.40727246,\n",
              "       177.72391925, 179.04725229, 182.43664413, 170.56992158,\n",
              "       180.8173037 , 188.78012497, 178.80944271, 183.88794191,\n",
              "       177.09564397, 188.17810562, 169.67323971, 182.57345559,\n",
              "       186.84453976, 178.55819118, 187.17011567, 180.4511094 ,\n",
              "       176.39322665, 183.71682078, 177.3175525 , 183.30691539,\n",
              "       177.41551799, 187.3308262 , 185.95870482, 181.8825355 ,\n",
              "       193.30855322, 180.91274968, 177.80522994, 181.33787238,\n",
              "       184.32698135, 177.31233309, 178.84927482, 177.29802387,\n",
              "       185.94334182, 181.13884822, 171.67582999, 182.93355479,\n",
              "       182.02706553, 182.56214918, 183.42756022, 183.49145058,\n",
              "       180.1184662 , 176.7796567 , 183.22696026, 188.8800604 ,\n",
              "       169.47707066, 176.04442006, 178.20669975, 178.29424433,\n",
              "       180.52534833, 186.09651662, 186.894509  , 180.50783343,\n",
              "       183.97500922, 181.16880639, 186.57480235, 172.61185734,\n",
              "       177.46954071, 177.2307094 , 187.72243537, 175.98363721,\n",
              "       179.37855821, 178.68046049, 180.77743347, 178.37561835,\n",
              "       186.07485117, 180.70732334, 181.34254759, 173.48600111,\n",
              "       188.78312349, 189.06387086, 184.07912574, 184.13802527,\n",
              "       176.58858746, 175.60250077, 182.5326131 , 177.84666834,\n",
              "       178.87658876, 184.83865061, 174.4654631 , 172.55316667,\n",
              "       177.66674444, 179.66409669, 184.33636273, 182.3769306 ,\n",
              "       179.29784714, 179.67553371, 180.4895192 , 176.00240232,\n",
              "       181.14877487, 184.45648798, 182.96068374, 184.22135348,\n",
              "       179.77482247, 182.15799419, 178.74896869, 176.94762234,\n",
              "       188.01856492, 168.35273764, 179.87712299, 172.14608822,\n",
              "       170.53192263, 178.00550661, 177.55609448, 189.93704493,\n",
              "       181.40032794, 174.71962476, 176.10168401, 184.22248133,\n",
              "       166.98179942, 171.37893471, 187.61536059, 179.69586648,\n",
              "       184.01288678, 181.46661412, 175.11008719, 171.26383345,\n",
              "       177.96980087, 189.09539721, 176.67440753, 181.93971154,\n",
              "       181.67991288, 186.99873463, 178.79607403, 179.21406438,\n",
              "       175.82392356, 172.33567926, 189.52987316, 179.87047193,\n",
              "       177.2297905 , 171.34977812, 179.98551152, 175.53513502,\n",
              "       177.51766011, 183.76240836, 191.17410106, 182.62525487,\n",
              "       176.5081823 , 179.25515058, 183.08597213, 180.77359947,\n",
              "       175.96893649, 175.77388394, 185.93501606, 179.01137276,\n",
              "       172.05043252, 176.63389726, 181.72556064, 183.91350375,\n",
              "       179.07628459, 184.46774702, 180.93532281, 184.38306347,\n",
              "       193.01787387, 185.11457203, 180.9568409 , 180.20141307,\n",
              "       182.08791502, 177.15015986, 172.59872194, 187.09243331,\n",
              "       185.2905239 , 183.47176599, 184.26016472, 175.54021077,\n",
              "       177.20715924, 185.98331346, 179.2197306 , 181.72336986,\n",
              "       177.87846918, 181.98090852, 185.87822497, 177.35836433,\n",
              "       179.79088411, 174.23345473, 179.53249429, 181.51876213,\n",
              "       181.20859312, 184.87669706, 191.13434274, 172.10556628,\n",
              "       179.47812923, 179.98775343, 179.6322104 , 175.74160907,\n",
              "       182.24743386, 183.01066315, 184.81647244, 174.00483604,\n",
              "       182.2460737 , 177.09146648, 177.9684383 , 183.65988875,\n",
              "       177.43824654, 181.74985928, 180.87077697, 178.53878381,\n",
              "       187.23319198, 179.90858733, 182.29212504, 179.75612898,\n",
              "       176.36408601, 175.26943144, 172.91678691, 185.43848765,\n",
              "       187.46710087, 178.49292023, 182.59581045, 182.6242896 ,\n",
              "       175.8776105 , 178.73193899, 185.96349192, 181.11804261,\n",
              "       180.19220763, 175.37749598, 183.58521455, 184.68718652,\n",
              "       178.18057887, 180.65977004, 181.56551943, 182.56906055,\n",
              "       179.69070278, 174.23726804, 182.49550028, 180.81148268,\n",
              "       172.98613584, 184.73248492, 183.38966345, 175.31808765,\n",
              "       183.85624435, 186.42977264, 179.21501316, 172.99273168,\n",
              "       178.58697508, 182.8757436 , 177.91827585, 178.40128986,\n",
              "       184.29080158, 181.13678027, 180.69035195, 180.5807174 ,\n",
              "       189.10228035, 174.63435374, 172.84983586, 181.18243196,\n",
              "       185.84003887, 181.51220644, 174.25053689, 175.09963512,\n",
              "       183.80392762, 185.73738969, 176.35366431, 183.1287152 ,\n",
              "       170.7735023 , 172.46857979, 178.52776089, 175.69900995,\n",
              "       173.72397596, 182.20007459, 177.41683914, 181.09927312,\n",
              "       181.14851688, 181.50358947, 172.12721257, 171.69052574,\n",
              "       187.04152491, 191.11475922, 184.8746847 , 173.17359322,\n",
              "       174.51269957, 173.79100359, 181.80304092, 182.20685223,\n",
              "       184.91473303, 183.9397187 , 177.67569737, 178.85376828,\n",
              "       167.66602188, 178.40631   , 177.77338565, 170.94928061,\n",
              "       178.47402912, 187.50498284, 181.29642397, 177.16888651,\n",
              "       188.52277936, 181.05981536, 180.05666077, 177.54940572,\n",
              "       181.8881079 , 178.24107773, 187.88543519, 176.82913378,\n",
              "       181.47872123, 184.41069172, 181.0816433 , 168.66501427,\n",
              "       174.38595794, 189.99071941, 183.8806504 , 180.65625733,\n",
              "       181.56585724, 180.20255601, 178.71916858, 189.38548397,\n",
              "       179.0838807 , 182.14940714, 172.71321088, 175.27998713,\n",
              "       180.54361942, 185.59641255, 179.63360365, 178.56879491,\n",
              "       182.45113494, 172.69400558, 180.12232644, 186.9167807 ,\n",
              "       185.95546469, 187.53719914, 186.29077668, 176.56792876,\n",
              "       181.39776937, 179.64659215, 180.60149188, 176.69354648,\n",
              "       168.16095462, 183.56151618, 175.09711887, 180.78031423,\n",
              "       176.16869292, 180.7038985 , 184.64005903, 186.6869272 ,\n",
              "       184.83964146, 183.07055494, 177.11292345, 181.65122195,\n",
              "       175.72326308, 180.50291636, 184.00474937, 186.84654309,\n",
              "       182.88274329, 179.88814673, 188.03110063, 176.67969616,\n",
              "       173.28256676, 189.65617138, 179.02370984, 181.94689353,\n",
              "       179.43301184, 183.66862269, 179.90522987, 184.18867749,\n",
              "       175.15053167, 185.26547289, 190.35068949, 180.81251617,\n",
              "       176.48317096, 182.56876562, 177.66682262, 175.7448861 ,\n",
              "       179.40358624, 180.05629117, 172.85304818, 171.86546991,\n",
              "       178.05182382, 174.60365547, 168.26323019, 178.10463295,\n",
              "       177.53442118, 184.90740601, 177.2309422 , 179.83641637,\n",
              "       174.88294651, 188.32166072, 182.5015685 , 185.34940254,\n",
              "       179.16930913, 188.2122399 , 184.69116232, 182.03418971,\n",
              "       180.62810957, 182.80888031, 188.70330522, 184.66208167,\n",
              "       177.27432989, 174.72287143, 181.50960099, 173.45086581,\n",
              "       174.98706255, 179.3835133 , 175.95786357, 186.29848517,\n",
              "       186.74559927, 187.85045026, 172.94540209, 188.01388462,\n",
              "       173.92356644, 180.44585406, 182.17226741, 192.58458413,\n",
              "       183.38899285, 194.09764049, 181.32686971, 174.13283877,\n",
              "       174.23756108, 178.25676936, 180.41258711, 170.72683748,\n",
              "       173.84693225, 185.27930222, 181.95775913, 186.49994612,\n",
              "       173.68522076, 181.81949411, 174.45922027, 184.93128522,\n",
              "       182.48096206, 185.8578849 , 191.9491832 , 186.57126468,\n",
              "       173.4202914 , 181.20994975, 179.58724475, 181.59436968,\n",
              "       184.3546489 , 182.37873146, 176.25501618, 181.29632765,\n",
              "       179.30074588, 177.9522732 , 178.19465941, 185.97122831,\n",
              "       187.85285331, 184.5744658 , 176.01298426, 176.19926989,\n",
              "       180.36203755, 179.47317867, 174.76978243, 177.11353931,\n",
              "       180.12055875, 180.66885418, 186.7799948 , 192.4251896 ,\n",
              "       175.76688293, 177.55834002, 166.27012275, 181.06697161,\n",
              "       185.11833385, 179.3543672 , 185.54102567, 184.65929175,\n",
              "       184.75656478, 186.30526356, 184.99263691, 179.95155064,\n",
              "       182.10718172, 179.68129823, 186.44202007, 184.13179644,\n",
              "       177.0013878 , 180.27946331, 179.69013224, 177.87193895,\n",
              "       174.93209266, 176.11513744, 174.24163195, 182.0142789 ,\n",
              "       181.12571287, 176.70370078, 178.83238149, 182.45584287,\n",
              "       179.31098521, 181.60311272, 183.16954734, 176.53871983,\n",
              "       184.88001676, 178.94342868, 188.0644675 , 179.80130148,\n",
              "       183.43576695, 177.15318051, 178.0875196 , 175.86111592,\n",
              "       176.32374218, 179.02948077, 178.0720539 , 176.94973308,\n",
              "       187.30668738, 181.16426985, 178.4938926 , 170.57251648,\n",
              "       185.63980334, 185.2857366 , 182.41737249, 178.26188214,\n",
              "       187.46407252, 185.61014122, 180.08252165, 180.8625978 ,\n",
              "       186.22059137, 174.10400704, 180.36010687, 182.34858116,\n",
              "       188.0443905 , 169.27263468, 178.3910217 , 191.99133749,\n",
              "       180.70426289, 186.25680314, 183.84517525, 181.7797984 ,\n",
              "       183.63306895, 176.46639866, 187.66608753, 180.35710084,\n",
              "       173.28265064, 173.02556322, 180.89606175, 188.10492753,\n",
              "       178.37395269, 179.37680507, 184.40484226, 170.01084013,\n",
              "       183.14947215, 183.29592377, 177.52000955, 168.41519172,\n",
              "       177.06176339, 178.00291435, 183.97244494, 180.07230592,\n",
              "       178.70709082, 185.56509059, 176.04021697, 184.44787358,\n",
              "       177.24037473, 187.35574507, 179.6836288 , 185.01425939,\n",
              "       186.64073128, 177.91867882, 182.63093968, 180.12689952,\n",
              "       177.95491655, 186.98850946, 174.37905067, 181.41728802,\n",
              "       183.76666092, 179.53597779, 171.83730367, 175.25858659])"
            ]
          },
          "metadata": {
            "tags": []
          },
          "execution_count": 27
        }
      ]
    },
    {
      "cell_type": "code",
      "metadata": {
        "id": "GKeC1WASaMDW",
        "colab_type": "code",
        "colab": {
          "base_uri": "https://localhost:8080/",
          "height": 1000
        },
        "outputId": "85eecfd0-de95-4d60-8f7c-69d9667564a3"
      },
      "source": [
        "xbar2 = 178.5 # sample mean 2\n",
        "s2 = 4.25 # sample standard deviation 2\n",
        "\n",
        "sample2 = np.random.normal(xbar2, s2, 800)\n",
        "\n",
        "sample2"
      ],
      "execution_count": 28,
      "outputs": [
        {
          "output_type": "execute_result",
          "data": {
            "text/plain": [
              "array([178.67161396, 177.13824097, 185.47373057, 177.52500272,\n",
              "       179.19869064, 171.73197992, 175.88717657, 185.75125634,\n",
              "       176.58378835, 179.92045897, 171.14235975, 178.22319536,\n",
              "       177.82421044, 175.40101689, 179.3970826 , 174.60363125,\n",
              "       173.67276995, 173.25496172, 177.71000986, 178.11793169,\n",
              "       183.64200595, 175.0395824 , 177.7547227 , 179.59097873,\n",
              "       176.99409523, 180.58843437, 174.91288204, 166.67509705,\n",
              "       184.06642262, 174.25734814, 177.7318049 , 177.77116144,\n",
              "       179.68837741, 179.75335618, 171.11283548, 175.4267538 ,\n",
              "       174.85852   , 177.84466242, 183.28708321, 182.13297354,\n",
              "       174.35776367, 179.19540932, 174.52534257, 183.01322002,\n",
              "       184.73712159, 174.27846416, 173.81403519, 182.17229851,\n",
              "       183.62767166, 176.0170866 , 178.55312515, 178.04976096,\n",
              "       182.37580813, 175.07600569, 177.8640631 , 180.65156215,\n",
              "       176.73803484, 174.53955896, 181.50497658, 177.25708994,\n",
              "       178.52245213, 178.33791977, 173.07429721, 181.67458257,\n",
              "       177.69223195, 181.84410927, 177.74539486, 178.7698045 ,\n",
              "       175.93189441, 180.65179505, 174.38391784, 183.55862158,\n",
              "       177.94754031, 186.19394006, 175.83865984, 175.09576232,\n",
              "       175.70714362, 174.85225908, 171.28945161, 177.37338816,\n",
              "       171.29900241, 181.86106315, 173.57445357, 180.32495864,\n",
              "       177.93457531, 177.47021822, 183.53421522, 183.45242337,\n",
              "       175.89580442, 178.56061336, 179.41819865, 178.18148883,\n",
              "       178.85075145, 179.57553707, 172.69470271, 172.7522734 ,\n",
              "       179.16760366, 172.91379263, 180.1220209 , 179.91890706,\n",
              "       181.81353575, 181.06225493, 183.3743042 , 177.36842705,\n",
              "       173.15504932, 181.39883225, 186.07646785, 172.7933854 ,\n",
              "       175.35742964, 179.3999872 , 177.38192843, 184.57343581,\n",
              "       177.49569823, 182.96833187, 180.14742613, 173.13561784,\n",
              "       189.66140759, 180.46443042, 172.17003654, 184.6203537 ,\n",
              "       184.32395519, 177.20287553, 180.13939769, 174.18065024,\n",
              "       178.11651338, 176.91493192, 176.7553647 , 182.27342103,\n",
              "       176.74483198, 179.1168106 , 175.70208025, 182.85197461,\n",
              "       177.73710746, 173.78520862, 172.97521955, 186.8995152 ,\n",
              "       183.28037324, 175.37839705, 177.8239082 , 176.82843157,\n",
              "       183.0879637 , 174.04070424, 179.37641146, 177.10680332,\n",
              "       179.14253761, 178.53418874, 166.65608126, 177.21120894,\n",
              "       179.28013029, 175.49049349, 179.95335551, 175.60574809,\n",
              "       176.42152451, 168.31441377, 181.88212597, 169.76376069,\n",
              "       178.02653231, 176.43759723, 182.00732141, 173.82954425,\n",
              "       183.10244737, 185.61114795, 182.63883403, 178.89728099,\n",
              "       170.62041429, 172.89974913, 178.43213798, 176.20621078,\n",
              "       178.25172397, 176.14397596, 171.5628948 , 180.86837229,\n",
              "       174.3562664 , 181.34425594, 180.1123708 , 178.87697714,\n",
              "       184.37812309, 180.24025691, 187.21301477, 178.68116272,\n",
              "       174.50891498, 179.50777847, 179.17798988, 183.12761578,\n",
              "       180.9419753 , 179.89575749, 185.43260555, 177.21545846,\n",
              "       173.88826492, 174.02561799, 172.82434217, 175.38721517,\n",
              "       174.25016488, 181.07054406, 182.21523404, 186.35379537,\n",
              "       175.55055855, 175.12561501, 177.05655751, 185.87512193,\n",
              "       180.03211199, 173.05046099, 174.32414788, 178.74907019,\n",
              "       172.76892332, 178.19823849, 174.40396522, 180.37595838,\n",
              "       174.55685983, 175.83177255, 176.72622887, 175.95662222,\n",
              "       178.24160997, 172.66418174, 174.23256893, 171.46062423,\n",
              "       180.91938009, 181.66756809, 172.38715728, 179.25916026,\n",
              "       171.58791674, 174.48017761, 187.0532922 , 177.75601732,\n",
              "       180.53668764, 177.38692745, 179.75552773, 182.3029396 ,\n",
              "       193.12940826, 178.20111459, 178.71352748, 182.3684954 ,\n",
              "       184.79819636, 184.05747027, 178.09272064, 177.98437766,\n",
              "       180.27325204, 174.76903475, 168.88666988, 178.39825858,\n",
              "       179.9222133 , 175.24138581, 180.00274538, 182.02305916,\n",
              "       175.77319728, 175.66958804, 177.34307146, 173.20303407,\n",
              "       180.94157507, 180.79211534, 176.18211186, 187.28871461,\n",
              "       176.40883232, 178.0497386 , 182.36542331, 181.13819502,\n",
              "       176.90597028, 174.94870015, 179.55532851, 178.2524227 ,\n",
              "       172.55195143, 181.98933844, 176.20197642, 180.28920909,\n",
              "       173.0179338 , 181.0042833 , 173.23826968, 167.47828932,\n",
              "       180.98416328, 179.16465566, 180.38957646, 174.73891232,\n",
              "       178.388118  , 180.48153845, 178.52385367, 177.51513014,\n",
              "       171.05585443, 178.54490459, 177.75753875, 176.18491915,\n",
              "       179.34676835, 178.02765725, 177.79836125, 184.73817102,\n",
              "       174.79403508, 182.95523998, 181.95318454, 181.48930187,\n",
              "       178.69027457, 177.37537096, 181.09870166, 183.59148806,\n",
              "       174.43507027, 174.21894748, 181.3914213 , 177.00514891,\n",
              "       179.06882294, 175.99444813, 173.80700889, 181.75657169,\n",
              "       187.29998109, 172.83880184, 178.97450374, 174.10453509,\n",
              "       182.19888672, 181.31457465, 181.62366739, 175.72594798,\n",
              "       174.41429593, 171.57653643, 185.11452884, 180.34713742,\n",
              "       180.91854061, 172.67492482, 173.92628998, 180.98831502,\n",
              "       183.13125566, 180.32214395, 180.02789802, 178.30720468,\n",
              "       177.43882925, 178.78653965, 174.49844517, 179.8384236 ,\n",
              "       182.59301985, 176.38302929, 175.44887126, 177.25579844,\n",
              "       181.5369301 , 177.64484109, 188.45764164, 182.64887974,\n",
              "       184.73510198, 177.50296053, 173.88930796, 174.25930663,\n",
              "       177.84110427, 173.85333676, 171.11688218, 179.96107667,\n",
              "       177.34487769, 184.67539499, 183.49323997, 172.20159843,\n",
              "       180.83932095, 179.26005252, 179.43831589, 180.48092731,\n",
              "       181.94951933, 178.82058201, 180.70631908, 183.7420547 ,\n",
              "       180.82146483, 182.18883423, 172.97276682, 178.39076695,\n",
              "       173.02541617, 171.58141784, 184.03130244, 182.70169423,\n",
              "       183.29646748, 179.70114866, 166.16886596, 182.91538998,\n",
              "       183.34758864, 184.57718069, 179.23345222, 182.91318243,\n",
              "       177.52667714, 184.13899729, 186.55255584, 183.39858218,\n",
              "       176.98838556, 175.69530936, 182.70761991, 169.22704799,\n",
              "       175.56978839, 184.5652848 , 175.64789356, 178.11289025,\n",
              "       177.47482238, 180.26127863, 172.4725396 , 178.71535392,\n",
              "       176.93749066, 182.80703255, 181.5004871 , 172.68837168,\n",
              "       175.65285522, 182.86993985, 175.10262483, 181.57551613,\n",
              "       181.61159934, 176.93313175, 179.25597674, 182.85763391,\n",
              "       169.43683595, 174.92557456, 181.4923359 , 173.46933014,\n",
              "       181.46770959, 183.88405856, 180.94461601, 176.424206  ,\n",
              "       176.48143184, 176.40991677, 183.46724166, 179.28166751,\n",
              "       175.67697152, 179.35628015, 178.37639371, 175.33703903,\n",
              "       181.66508837, 181.52943565, 178.95660264, 178.58153715,\n",
              "       180.97658624, 176.3444872 , 177.14509064, 175.84467781,\n",
              "       179.77671436, 179.40663125, 174.26885524, 180.3527735 ,\n",
              "       177.207694  , 175.81557103, 182.13829587, 168.24439721,\n",
              "       184.38845356, 181.61920135, 182.29978534, 177.42044424,\n",
              "       179.05203706, 180.25270119, 175.68347943, 173.66617398,\n",
              "       179.98409767, 181.66739053, 179.16332544, 182.81333088,\n",
              "       179.95382918, 172.56038989, 179.4060198 , 174.92942375,\n",
              "       178.78422341, 191.42436876, 170.5566034 , 180.12066464,\n",
              "       184.50673349, 177.21641794, 178.32116089, 180.06294549,\n",
              "       184.78849148, 181.16785524, 172.61213074, 177.58492766,\n",
              "       183.05859094, 178.67318363, 175.01189131, 176.89910634,\n",
              "       184.90377359, 182.84050837, 170.28057678, 166.7949691 ,\n",
              "       181.48645349, 185.92896071, 173.63711233, 173.56090786,\n",
              "       178.77401116, 172.59240345, 178.02464716, 174.56457377,\n",
              "       179.46450601, 185.37636933, 172.98120608, 183.64768235,\n",
              "       180.89405335, 177.018249  , 177.07848646, 175.03359385,\n",
              "       174.95934273, 171.28058172, 179.90092283, 173.66821395,\n",
              "       181.83371033, 176.21096937, 185.04160166, 178.30424879,\n",
              "       182.78915518, 178.25400502, 176.67277726, 178.91383651,\n",
              "       182.21844259, 171.84648243, 171.03649848, 182.96342407,\n",
              "       172.82630544, 176.19559781, 183.60418958, 171.76584649,\n",
              "       180.26752467, 176.92075677, 178.10269841, 175.80134832,\n",
              "       176.52377186, 179.01383186, 181.01107906, 172.7738122 ,\n",
              "       175.58285669, 178.67423393, 180.98788186, 177.03246941,\n",
              "       172.30461236, 180.28505462, 171.6196983 , 182.89466257,\n",
              "       186.69544391, 177.36243348, 179.55183773, 178.9697858 ,\n",
              "       172.02158071, 181.37409274, 175.28679051, 173.68051443,\n",
              "       173.52755745, 181.34039546, 178.21532299, 186.11385279,\n",
              "       178.27872255, 184.65544864, 184.11753373, 179.75573168,\n",
              "       178.87035916, 180.8126498 , 175.20190369, 174.45779052,\n",
              "       177.79760441, 174.81511463, 173.78708536, 179.62613629,\n",
              "       186.01180971, 179.78686862, 183.4941103 , 178.29938247,\n",
              "       183.5257063 , 172.34592853, 173.35390452, 176.99468066,\n",
              "       180.1894918 , 173.86875966, 177.1617225 , 177.38102473,\n",
              "       176.7188189 , 183.48903926, 175.29009726, 179.85090627,\n",
              "       178.47524343, 178.11270664, 174.26306423, 180.0653048 ,\n",
              "       180.62257256, 177.674384  , 175.69067102, 176.6087121 ,\n",
              "       179.6059252 , 181.73728585, 181.3864032 , 179.66326006,\n",
              "       180.97213201, 177.45370685, 184.60133355, 182.56825404,\n",
              "       180.13962654, 179.86057425, 180.69900988, 179.31618382,\n",
              "       190.101519  , 176.40943068, 172.0802062 , 189.93030893,\n",
              "       175.21800272, 178.29069051, 174.63141345, 183.39424191,\n",
              "       175.02328314, 171.26190364, 179.13124202, 174.36581024,\n",
              "       179.98708901, 177.91832778, 178.05378672, 179.57293266,\n",
              "       174.56502518, 186.80492287, 175.90122464, 180.49226293,\n",
              "       177.1582317 , 173.09113834, 178.39034792, 176.91380332,\n",
              "       175.53477331, 178.03952447, 178.22737251, 179.55739271,\n",
              "       184.14075626, 178.65272031, 171.99407126, 168.41853361,\n",
              "       182.92742072, 172.53247817, 181.05424301, 179.30543135,\n",
              "       181.38807935, 175.02446807, 186.79909477, 178.26834421,\n",
              "       179.82548717, 172.98558636, 178.92849945, 183.0480935 ,\n",
              "       177.74462344, 184.52496102, 172.0660067 , 176.97941058,\n",
              "       184.52301084, 183.44953672, 179.39929417, 172.81897777,\n",
              "       183.65127264, 182.66811321, 184.15193956, 175.87793448,\n",
              "       175.10326079, 181.99658817, 183.70461802, 177.49719845,\n",
              "       180.08161925, 181.08209551, 181.43436559, 183.06020203,\n",
              "       178.59446003, 180.55046075, 180.14859221, 181.56244579,\n",
              "       179.91816352, 173.01415013, 179.12116671, 174.94440293,\n",
              "       180.46154048, 176.85005462, 177.57806805, 177.64857778,\n",
              "       184.19359286, 182.82844507, 181.59052862, 180.64792842,\n",
              "       177.74794868, 179.4108629 , 175.42401178, 184.13915936,\n",
              "       182.40906659, 176.31708125, 173.85340084, 177.82994733,\n",
              "       171.20922189, 186.31497151, 176.14235344, 175.10967918,\n",
              "       183.71855406, 177.07581448, 177.42498616, 174.25413072,\n",
              "       174.86562871, 183.82199042, 182.9977705 , 180.99369954,\n",
              "       176.22745683, 173.16118564, 176.35454919, 173.45487527,\n",
              "       180.41241216, 180.75343988, 186.36033365, 175.6592239 ,\n",
              "       182.4041407 , 184.27939284, 173.1522152 , 177.6163755 ,\n",
              "       175.74440035, 175.16509711, 168.27013372, 181.19363161,\n",
              "       178.86072928, 174.63265041, 181.21826896, 177.36133681,\n",
              "       178.60276374, 180.3748203 , 175.30541477, 181.56274615,\n",
              "       172.28889745, 185.80294624, 177.49961648, 183.29319483,\n",
              "       185.63358694, 171.60298075, 175.95895599, 174.22497953,\n",
              "       177.66993899, 180.05512371, 178.91055992, 181.83909352,\n",
              "       177.26345695, 164.11427041, 179.14624318, 181.84187766,\n",
              "       177.17473095, 178.6053167 , 187.91057116, 172.85435775,\n",
              "       177.10907832, 176.85435957, 189.93280514, 178.64757859,\n",
              "       176.07960562, 169.420563  , 170.50661159, 178.20207084,\n",
              "       184.72265667, 170.89457876, 185.56734117, 186.20490454,\n",
              "       181.07401238, 173.61696366, 176.25151953, 177.70088757,\n",
              "       184.31563438, 181.10249373, 179.3968398 , 182.74419215,\n",
              "       171.81744744, 176.20684116, 181.80197116, 175.46177568,\n",
              "       174.88070952, 178.37474896, 177.08041022, 177.47873177,\n",
              "       181.41567275, 173.84213491, 179.76228485, 172.19474347,\n",
              "       177.40979034, 185.96195381, 176.3096101 , 176.18349537,\n",
              "       171.5091333 , 179.91162943, 176.51664454, 174.50732718,\n",
              "       185.58995808, 179.42153914, 177.05997405, 180.44643859,\n",
              "       184.47999465, 182.98054992, 186.90542907, 178.8091347 ,\n",
              "       178.46353432, 180.57973311, 173.57468409, 181.07512834,\n",
              "       175.225322  , 176.02903405, 173.17651925, 177.55959411,\n",
              "       173.12033784, 179.13117479, 174.21111965, 181.42884221,\n",
              "       178.9773627 , 180.08951799, 180.37362808, 180.07718863,\n",
              "       184.11685211, 175.86600617, 179.88949318, 184.18435714,\n",
              "       175.86077294, 181.77691592, 176.46032501, 176.96002506,\n",
              "       173.95345607, 182.91100775, 179.11023576, 183.95450112,\n",
              "       181.7047553 , 172.30710214, 178.9407208 , 172.690208  ])"
            ]
          },
          "metadata": {
            "tags": []
          },
          "execution_count": 28
        }
      ]
    },
    {
      "cell_type": "markdown",
      "metadata": {
        "id": "V8GmRpyvbDu0",
        "colab_type": "text"
      },
      "source": [
        "Null Hypothesis:\n",
        "\n",
        "The pancake cooking times of the two burners is the same.\n",
        "\n",
        "$\\bar{x}_1 == \\bar{x}_2$ (sample mean 1 is equal to sample mean 2)\n",
        "\n",
        "Alternative Hypothesis: The pancake cooking times are different between the two burners\n",
        "\n",
        "$\\bar{x}_1 \\neq \\bar{x}_2$ (sample mean 1 is not equal to sample mean 2)\n",
        "\n",
        "Confidence Level: 95%"
      ]
    },
    {
      "cell_type": "code",
      "metadata": {
        "id": "86b8mvXfbDUO",
        "colab_type": "code",
        "outputId": "887b566b-bdf5-4712-ab9c-197be7e30f5c",
        "colab": {
          "base_uri": "https://localhost:8080/",
          "height": 35
        }
      },
      "source": [
        "stats.ttest_ind(sample1, sample2)"
      ],
      "execution_count": 30,
      "outputs": [
        {
          "output_type": "execute_result",
          "data": {
            "text/plain": [
              "Ttest_indResult(statistic=8.122174516013594, pvalue=8.415660410826671e-16)"
            ]
          },
          "metadata": {
            "tags": []
          },
          "execution_count": 30
        }
      ]
    },
    {
      "cell_type": "markdown",
      "metadata": {
        "id": "_aprVYEibuxU",
        "colab_type": "text"
      },
      "source": [
        "Conclusion: Based on a t-statistic of 5.92 and a p-value of .00000000394, I reject the null hypothesis that the sample means are the same, and suggest the alternative, that the two burners cook pancakes at different rates. \n",
        "\n",
        "Reject when your P-value < (1-Confidence Level)"
      ]
    },
    {
      "cell_type": "markdown",
      "metadata": {
        "id": "nqPkBMiN5T4z",
        "colab_type": "text"
      },
      "source": [
        "## Lets Practice more 1-sample and 2-sample T-tests\n",
        "\n",
        "Using the dataset that you will be using on your assignment"
      ]
    },
    {
      "cell_type": "code",
      "metadata": {
        "id": "LSJAoKtm5pQO",
        "colab_type": "code",
        "outputId": "434a9010-7033-4e62-9068-c2ac671db714",
        "colab": {
          "base_uri": "https://localhost:8080/",
          "height": 219
        }
      },
      "source": [
        "# Grab the file from UCI\n",
        "!wget https://archive.ics.uci.edu/ml/machine-learning-databases/voting-records/house-votes-84.data"
      ],
      "execution_count": 31,
      "outputs": [
        {
          "output_type": "stream",
          "text": [
            "--2020-03-16 19:57:43--  https://archive.ics.uci.edu/ml/machine-learning-databases/voting-records/house-votes-84.data\n",
            "Resolving archive.ics.uci.edu (archive.ics.uci.edu)... 128.195.10.252\n",
            "Connecting to archive.ics.uci.edu (archive.ics.uci.edu)|128.195.10.252|:443... connected.\n",
            "HTTP request sent, awaiting response... 200 OK\n",
            "Length: 18171 (18K) [application/x-httpd-php]\n",
            "Saving to: ‘house-votes-84.data’\n",
            "\n",
            "house-votes-84.data 100%[===================>]  17.75K  --.-KB/s    in 0.03s   \n",
            "\n",
            "2020-03-16 19:57:48 (638 KB/s) - ‘house-votes-84.data’ saved [18171/18171]\n",
            "\n"
          ],
          "name": "stdout"
        }
      ]
    },
    {
      "cell_type": "code",
      "metadata": {
        "id": "dxG7zgd4daUm",
        "colab_type": "code",
        "outputId": "9d63806f-8dec-4c38-87a3-fbdea1c0766b",
        "colab": {
          "base_uri": "https://localhost:8080/",
          "height": 279
        }
      },
      "source": [
        "df = pd.read_csv('house-votes-84.data', names=['party','handicapped-infants','water-project',\n",
        "                          'budget','physician-fee-freeze', 'el-salvador-aid',\n",
        "                          'religious-groups','anti-satellite-ban',\n",
        "                          'aid-to-contras','mx-missile','immigration',\n",
        "                          'synfuels', 'education', 'right-to-sue','crime','duty-free',\n",
        "                          'south-africa'])\n",
        "print(df.shape)\n",
        "df.head()"
      ],
      "execution_count": 32,
      "outputs": [
        {
          "output_type": "stream",
          "text": [
            "(435, 17)\n"
          ],
          "name": "stdout"
        },
        {
          "output_type": "execute_result",
          "data": {
            "text/html": [
              "<div>\n",
              "<style scoped>\n",
              "    .dataframe tbody tr th:only-of-type {\n",
              "        vertical-align: middle;\n",
              "    }\n",
              "\n",
              "    .dataframe tbody tr th {\n",
              "        vertical-align: top;\n",
              "    }\n",
              "\n",
              "    .dataframe thead th {\n",
              "        text-align: right;\n",
              "    }\n",
              "</style>\n",
              "<table border=\"1\" class=\"dataframe\">\n",
              "  <thead>\n",
              "    <tr style=\"text-align: right;\">\n",
              "      <th></th>\n",
              "      <th>party</th>\n",
              "      <th>handicapped-infants</th>\n",
              "      <th>water-project</th>\n",
              "      <th>budget</th>\n",
              "      <th>physician-fee-freeze</th>\n",
              "      <th>el-salvador-aid</th>\n",
              "      <th>religious-groups</th>\n",
              "      <th>anti-satellite-ban</th>\n",
              "      <th>aid-to-contras</th>\n",
              "      <th>mx-missile</th>\n",
              "      <th>immigration</th>\n",
              "      <th>synfuels</th>\n",
              "      <th>education</th>\n",
              "      <th>right-to-sue</th>\n",
              "      <th>crime</th>\n",
              "      <th>duty-free</th>\n",
              "      <th>south-africa</th>\n",
              "    </tr>\n",
              "  </thead>\n",
              "  <tbody>\n",
              "    <tr>\n",
              "      <th>0</th>\n",
              "      <td>republican</td>\n",
              "      <td>n</td>\n",
              "      <td>y</td>\n",
              "      <td>n</td>\n",
              "      <td>y</td>\n",
              "      <td>y</td>\n",
              "      <td>y</td>\n",
              "      <td>n</td>\n",
              "      <td>n</td>\n",
              "      <td>n</td>\n",
              "      <td>y</td>\n",
              "      <td>?</td>\n",
              "      <td>y</td>\n",
              "      <td>y</td>\n",
              "      <td>y</td>\n",
              "      <td>n</td>\n",
              "      <td>y</td>\n",
              "    </tr>\n",
              "    <tr>\n",
              "      <th>1</th>\n",
              "      <td>republican</td>\n",
              "      <td>n</td>\n",
              "      <td>y</td>\n",
              "      <td>n</td>\n",
              "      <td>y</td>\n",
              "      <td>y</td>\n",
              "      <td>y</td>\n",
              "      <td>n</td>\n",
              "      <td>n</td>\n",
              "      <td>n</td>\n",
              "      <td>n</td>\n",
              "      <td>n</td>\n",
              "      <td>y</td>\n",
              "      <td>y</td>\n",
              "      <td>y</td>\n",
              "      <td>n</td>\n",
              "      <td>?</td>\n",
              "    </tr>\n",
              "    <tr>\n",
              "      <th>2</th>\n",
              "      <td>democrat</td>\n",
              "      <td>?</td>\n",
              "      <td>y</td>\n",
              "      <td>y</td>\n",
              "      <td>?</td>\n",
              "      <td>y</td>\n",
              "      <td>y</td>\n",
              "      <td>n</td>\n",
              "      <td>n</td>\n",
              "      <td>n</td>\n",
              "      <td>n</td>\n",
              "      <td>y</td>\n",
              "      <td>n</td>\n",
              "      <td>y</td>\n",
              "      <td>y</td>\n",
              "      <td>n</td>\n",
              "      <td>n</td>\n",
              "    </tr>\n",
              "    <tr>\n",
              "      <th>3</th>\n",
              "      <td>democrat</td>\n",
              "      <td>n</td>\n",
              "      <td>y</td>\n",
              "      <td>y</td>\n",
              "      <td>n</td>\n",
              "      <td>?</td>\n",
              "      <td>y</td>\n",
              "      <td>n</td>\n",
              "      <td>n</td>\n",
              "      <td>n</td>\n",
              "      <td>n</td>\n",
              "      <td>y</td>\n",
              "      <td>n</td>\n",
              "      <td>y</td>\n",
              "      <td>n</td>\n",
              "      <td>n</td>\n",
              "      <td>y</td>\n",
              "    </tr>\n",
              "    <tr>\n",
              "      <th>4</th>\n",
              "      <td>democrat</td>\n",
              "      <td>y</td>\n",
              "      <td>y</td>\n",
              "      <td>y</td>\n",
              "      <td>n</td>\n",
              "      <td>y</td>\n",
              "      <td>y</td>\n",
              "      <td>n</td>\n",
              "      <td>n</td>\n",
              "      <td>n</td>\n",
              "      <td>n</td>\n",
              "      <td>y</td>\n",
              "      <td>?</td>\n",
              "      <td>y</td>\n",
              "      <td>y</td>\n",
              "      <td>y</td>\n",
              "      <td>y</td>\n",
              "    </tr>\n",
              "  </tbody>\n",
              "</table>\n",
              "</div>"
            ],
            "text/plain": [
              "        party handicapped-infants water-project  ... crime duty-free south-africa\n",
              "0  republican                   n             y  ...     y         n            y\n",
              "1  republican                   n             y  ...     y         n            ?\n",
              "2    democrat                   ?             y  ...     y         n            n\n",
              "3    democrat                   n             y  ...     n         n            y\n",
              "4    democrat                   y             y  ...     y         y            y\n",
              "\n",
              "[5 rows x 17 columns]"
            ]
          },
          "metadata": {
            "tags": []
          },
          "execution_count": 32
        }
      ]
    },
    {
      "cell_type": "code",
      "metadata": {
        "id": "yY52KS18duzM",
        "colab_type": "code",
        "outputId": "a4eda4f9-7067-4243-9bb2-8aaec885ee05",
        "colab": {
          "base_uri": "https://localhost:8080/",
          "height": 72
        }
      },
      "source": [
        "df['party'].value_counts()"
      ],
      "execution_count": 33,
      "outputs": [
        {
          "output_type": "execute_result",
          "data": {
            "text/plain": [
              "democrat      267\n",
              "republican    168\n",
              "Name: party, dtype: int64"
            ]
          },
          "metadata": {
            "tags": []
          },
          "execution_count": 33
        }
      ]
    },
    {
      "cell_type": "code",
      "metadata": {
        "id": "oRdIdIVedzWn",
        "colab_type": "code",
        "outputId": "4533aa5c-4692-4a51-85aa-c9f774298e5b",
        "colab": {
          "base_uri": "https://localhost:8080/",
          "height": 261
        }
      },
      "source": [
        "# Label encoding, and replace ? with Np.NaN in one fell-swoop.\n",
        "\n",
        "df = df.replace({'y': 1, 'n': 0, '?': np.NaN})\n",
        "\n",
        "df.head()"
      ],
      "execution_count": 35,
      "outputs": [
        {
          "output_type": "execute_result",
          "data": {
            "text/html": [
              "<div>\n",
              "<style scoped>\n",
              "    .dataframe tbody tr th:only-of-type {\n",
              "        vertical-align: middle;\n",
              "    }\n",
              "\n",
              "    .dataframe tbody tr th {\n",
              "        vertical-align: top;\n",
              "    }\n",
              "\n",
              "    .dataframe thead th {\n",
              "        text-align: right;\n",
              "    }\n",
              "</style>\n",
              "<table border=\"1\" class=\"dataframe\">\n",
              "  <thead>\n",
              "    <tr style=\"text-align: right;\">\n",
              "      <th></th>\n",
              "      <th>party</th>\n",
              "      <th>handicapped-infants</th>\n",
              "      <th>water-project</th>\n",
              "      <th>budget</th>\n",
              "      <th>physician-fee-freeze</th>\n",
              "      <th>el-salvador-aid</th>\n",
              "      <th>religious-groups</th>\n",
              "      <th>anti-satellite-ban</th>\n",
              "      <th>aid-to-contras</th>\n",
              "      <th>mx-missile</th>\n",
              "      <th>immigration</th>\n",
              "      <th>synfuels</th>\n",
              "      <th>education</th>\n",
              "      <th>right-to-sue</th>\n",
              "      <th>crime</th>\n",
              "      <th>duty-free</th>\n",
              "      <th>south-africa</th>\n",
              "    </tr>\n",
              "  </thead>\n",
              "  <tbody>\n",
              "    <tr>\n",
              "      <th>0</th>\n",
              "      <td>republican</td>\n",
              "      <td>0.0</td>\n",
              "      <td>1.0</td>\n",
              "      <td>0.0</td>\n",
              "      <td>1.0</td>\n",
              "      <td>1.0</td>\n",
              "      <td>1.0</td>\n",
              "      <td>0.0</td>\n",
              "      <td>0.0</td>\n",
              "      <td>0.0</td>\n",
              "      <td>1.0</td>\n",
              "      <td>NaN</td>\n",
              "      <td>1.0</td>\n",
              "      <td>1.0</td>\n",
              "      <td>1.0</td>\n",
              "      <td>0.0</td>\n",
              "      <td>1.0</td>\n",
              "    </tr>\n",
              "    <tr>\n",
              "      <th>1</th>\n",
              "      <td>republican</td>\n",
              "      <td>0.0</td>\n",
              "      <td>1.0</td>\n",
              "      <td>0.0</td>\n",
              "      <td>1.0</td>\n",
              "      <td>1.0</td>\n",
              "      <td>1.0</td>\n",
              "      <td>0.0</td>\n",
              "      <td>0.0</td>\n",
              "      <td>0.0</td>\n",
              "      <td>0.0</td>\n",
              "      <td>0.0</td>\n",
              "      <td>1.0</td>\n",
              "      <td>1.0</td>\n",
              "      <td>1.0</td>\n",
              "      <td>0.0</td>\n",
              "      <td>NaN</td>\n",
              "    </tr>\n",
              "    <tr>\n",
              "      <th>2</th>\n",
              "      <td>democrat</td>\n",
              "      <td>NaN</td>\n",
              "      <td>1.0</td>\n",
              "      <td>1.0</td>\n",
              "      <td>NaN</td>\n",
              "      <td>1.0</td>\n",
              "      <td>1.0</td>\n",
              "      <td>0.0</td>\n",
              "      <td>0.0</td>\n",
              "      <td>0.0</td>\n",
              "      <td>0.0</td>\n",
              "      <td>1.0</td>\n",
              "      <td>0.0</td>\n",
              "      <td>1.0</td>\n",
              "      <td>1.0</td>\n",
              "      <td>0.0</td>\n",
              "      <td>0.0</td>\n",
              "    </tr>\n",
              "    <tr>\n",
              "      <th>3</th>\n",
              "      <td>democrat</td>\n",
              "      <td>0.0</td>\n",
              "      <td>1.0</td>\n",
              "      <td>1.0</td>\n",
              "      <td>0.0</td>\n",
              "      <td>NaN</td>\n",
              "      <td>1.0</td>\n",
              "      <td>0.0</td>\n",
              "      <td>0.0</td>\n",
              "      <td>0.0</td>\n",
              "      <td>0.0</td>\n",
              "      <td>1.0</td>\n",
              "      <td>0.0</td>\n",
              "      <td>1.0</td>\n",
              "      <td>0.0</td>\n",
              "      <td>0.0</td>\n",
              "      <td>1.0</td>\n",
              "    </tr>\n",
              "    <tr>\n",
              "      <th>4</th>\n",
              "      <td>democrat</td>\n",
              "      <td>1.0</td>\n",
              "      <td>1.0</td>\n",
              "      <td>1.0</td>\n",
              "      <td>0.0</td>\n",
              "      <td>1.0</td>\n",
              "      <td>1.0</td>\n",
              "      <td>0.0</td>\n",
              "      <td>0.0</td>\n",
              "      <td>0.0</td>\n",
              "      <td>0.0</td>\n",
              "      <td>1.0</td>\n",
              "      <td>NaN</td>\n",
              "      <td>1.0</td>\n",
              "      <td>1.0</td>\n",
              "      <td>1.0</td>\n",
              "      <td>1.0</td>\n",
              "    </tr>\n",
              "  </tbody>\n",
              "</table>\n",
              "</div>"
            ],
            "text/plain": [
              "        party  handicapped-infants  ...  duty-free  south-africa\n",
              "0  republican                  0.0  ...        0.0           1.0\n",
              "1  republican                  0.0  ...        0.0           NaN\n",
              "2    democrat                  NaN  ...        0.0           0.0\n",
              "3    democrat                  0.0  ...        0.0           1.0\n",
              "4    democrat                  1.0  ...        1.0           1.0\n",
              "\n",
              "[5 rows x 17 columns]"
            ]
          },
          "metadata": {
            "tags": []
          },
          "execution_count": 35
        }
      ]
    },
    {
      "cell_type": "code",
      "metadata": {
        "id": "K5olTOureCnk",
        "colab_type": "code",
        "colab": {}
      },
      "source": [
        "# Split the dataset into republicans and democrats\n",
        "\n",
        "rep = df[df['party']=='republican']\n",
        "dem = df[df['party']=='democrat']"
      ],
      "execution_count": 0,
      "outputs": []
    },
    {
      "cell_type": "code",
      "metadata": {
        "id": "RcIe0hdDePwm",
        "colab_type": "code",
        "outputId": "09e199f9-e027-4f32-94ea-91f1581ee8bf",
        "colab": {
          "base_uri": "https://localhost:8080/",
          "height": 888
        }
      },
      "source": [
        "rep.head(25)"
      ],
      "execution_count": 42,
      "outputs": [
        {
          "output_type": "execute_result",
          "data": {
            "text/html": [
              "<div>\n",
              "<style scoped>\n",
              "    .dataframe tbody tr th:only-of-type {\n",
              "        vertical-align: middle;\n",
              "    }\n",
              "\n",
              "    .dataframe tbody tr th {\n",
              "        vertical-align: top;\n",
              "    }\n",
              "\n",
              "    .dataframe thead th {\n",
              "        text-align: right;\n",
              "    }\n",
              "</style>\n",
              "<table border=\"1\" class=\"dataframe\">\n",
              "  <thead>\n",
              "    <tr style=\"text-align: right;\">\n",
              "      <th></th>\n",
              "      <th>party</th>\n",
              "      <th>handicapped-infants</th>\n",
              "      <th>water-project</th>\n",
              "      <th>budget</th>\n",
              "      <th>physician-fee-freeze</th>\n",
              "      <th>el-salvador-aid</th>\n",
              "      <th>religious-groups</th>\n",
              "      <th>anti-satellite-ban</th>\n",
              "      <th>aid-to-contras</th>\n",
              "      <th>mx-missile</th>\n",
              "      <th>immigration</th>\n",
              "      <th>synfuels</th>\n",
              "      <th>education</th>\n",
              "      <th>right-to-sue</th>\n",
              "      <th>crime</th>\n",
              "      <th>duty-free</th>\n",
              "      <th>south-africa</th>\n",
              "    </tr>\n",
              "  </thead>\n",
              "  <tbody>\n",
              "    <tr>\n",
              "      <th>0</th>\n",
              "      <td>republican</td>\n",
              "      <td>0.0</td>\n",
              "      <td>1.0</td>\n",
              "      <td>0.0</td>\n",
              "      <td>1.0</td>\n",
              "      <td>1.0</td>\n",
              "      <td>1.0</td>\n",
              "      <td>0.0</td>\n",
              "      <td>0.0</td>\n",
              "      <td>0.0</td>\n",
              "      <td>1.0</td>\n",
              "      <td>NaN</td>\n",
              "      <td>1.0</td>\n",
              "      <td>1.0</td>\n",
              "      <td>1.0</td>\n",
              "      <td>0.0</td>\n",
              "      <td>1.0</td>\n",
              "    </tr>\n",
              "    <tr>\n",
              "      <th>1</th>\n",
              "      <td>republican</td>\n",
              "      <td>0.0</td>\n",
              "      <td>1.0</td>\n",
              "      <td>0.0</td>\n",
              "      <td>1.0</td>\n",
              "      <td>1.0</td>\n",
              "      <td>1.0</td>\n",
              "      <td>0.0</td>\n",
              "      <td>0.0</td>\n",
              "      <td>0.0</td>\n",
              "      <td>0.0</td>\n",
              "      <td>0.0</td>\n",
              "      <td>1.0</td>\n",
              "      <td>1.0</td>\n",
              "      <td>1.0</td>\n",
              "      <td>0.0</td>\n",
              "      <td>NaN</td>\n",
              "    </tr>\n",
              "    <tr>\n",
              "      <th>7</th>\n",
              "      <td>republican</td>\n",
              "      <td>0.0</td>\n",
              "      <td>1.0</td>\n",
              "      <td>0.0</td>\n",
              "      <td>1.0</td>\n",
              "      <td>1.0</td>\n",
              "      <td>1.0</td>\n",
              "      <td>0.0</td>\n",
              "      <td>0.0</td>\n",
              "      <td>0.0</td>\n",
              "      <td>0.0</td>\n",
              "      <td>0.0</td>\n",
              "      <td>0.0</td>\n",
              "      <td>1.0</td>\n",
              "      <td>1.0</td>\n",
              "      <td>NaN</td>\n",
              "      <td>1.0</td>\n",
              "    </tr>\n",
              "    <tr>\n",
              "      <th>8</th>\n",
              "      <td>republican</td>\n",
              "      <td>0.0</td>\n",
              "      <td>1.0</td>\n",
              "      <td>0.0</td>\n",
              "      <td>1.0</td>\n",
              "      <td>1.0</td>\n",
              "      <td>1.0</td>\n",
              "      <td>0.0</td>\n",
              "      <td>0.0</td>\n",
              "      <td>0.0</td>\n",
              "      <td>0.0</td>\n",
              "      <td>0.0</td>\n",
              "      <td>1.0</td>\n",
              "      <td>1.0</td>\n",
              "      <td>1.0</td>\n",
              "      <td>0.0</td>\n",
              "      <td>1.0</td>\n",
              "    </tr>\n",
              "    <tr>\n",
              "      <th>10</th>\n",
              "      <td>republican</td>\n",
              "      <td>0.0</td>\n",
              "      <td>1.0</td>\n",
              "      <td>0.0</td>\n",
              "      <td>1.0</td>\n",
              "      <td>1.0</td>\n",
              "      <td>0.0</td>\n",
              "      <td>0.0</td>\n",
              "      <td>0.0</td>\n",
              "      <td>0.0</td>\n",
              "      <td>0.0</td>\n",
              "      <td>NaN</td>\n",
              "      <td>NaN</td>\n",
              "      <td>1.0</td>\n",
              "      <td>1.0</td>\n",
              "      <td>0.0</td>\n",
              "      <td>0.0</td>\n",
              "    </tr>\n",
              "    <tr>\n",
              "      <th>11</th>\n",
              "      <td>republican</td>\n",
              "      <td>0.0</td>\n",
              "      <td>1.0</td>\n",
              "      <td>0.0</td>\n",
              "      <td>1.0</td>\n",
              "      <td>1.0</td>\n",
              "      <td>1.0</td>\n",
              "      <td>0.0</td>\n",
              "      <td>0.0</td>\n",
              "      <td>0.0</td>\n",
              "      <td>0.0</td>\n",
              "      <td>1.0</td>\n",
              "      <td>NaN</td>\n",
              "      <td>1.0</td>\n",
              "      <td>1.0</td>\n",
              "      <td>NaN</td>\n",
              "      <td>NaN</td>\n",
              "    </tr>\n",
              "    <tr>\n",
              "      <th>14</th>\n",
              "      <td>republican</td>\n",
              "      <td>0.0</td>\n",
              "      <td>1.0</td>\n",
              "      <td>0.0</td>\n",
              "      <td>1.0</td>\n",
              "      <td>1.0</td>\n",
              "      <td>1.0</td>\n",
              "      <td>0.0</td>\n",
              "      <td>0.0</td>\n",
              "      <td>0.0</td>\n",
              "      <td>0.0</td>\n",
              "      <td>0.0</td>\n",
              "      <td>1.0</td>\n",
              "      <td>NaN</td>\n",
              "      <td>NaN</td>\n",
              "      <td>0.0</td>\n",
              "      <td>NaN</td>\n",
              "    </tr>\n",
              "    <tr>\n",
              "      <th>15</th>\n",
              "      <td>republican</td>\n",
              "      <td>0.0</td>\n",
              "      <td>1.0</td>\n",
              "      <td>0.0</td>\n",
              "      <td>1.0</td>\n",
              "      <td>1.0</td>\n",
              "      <td>1.0</td>\n",
              "      <td>0.0</td>\n",
              "      <td>0.0</td>\n",
              "      <td>0.0</td>\n",
              "      <td>1.0</td>\n",
              "      <td>0.0</td>\n",
              "      <td>1.0</td>\n",
              "      <td>1.0</td>\n",
              "      <td>NaN</td>\n",
              "      <td>0.0</td>\n",
              "      <td>NaN</td>\n",
              "    </tr>\n",
              "    <tr>\n",
              "      <th>18</th>\n",
              "      <td>republican</td>\n",
              "      <td>0.0</td>\n",
              "      <td>1.0</td>\n",
              "      <td>0.0</td>\n",
              "      <td>1.0</td>\n",
              "      <td>1.0</td>\n",
              "      <td>1.0</td>\n",
              "      <td>0.0</td>\n",
              "      <td>0.0</td>\n",
              "      <td>0.0</td>\n",
              "      <td>0.0</td>\n",
              "      <td>0.0</td>\n",
              "      <td>NaN</td>\n",
              "      <td>1.0</td>\n",
              "      <td>1.0</td>\n",
              "      <td>0.0</td>\n",
              "      <td>0.0</td>\n",
              "    </tr>\n",
              "    <tr>\n",
              "      <th>28</th>\n",
              "      <td>republican</td>\n",
              "      <td>1.0</td>\n",
              "      <td>0.0</td>\n",
              "      <td>0.0</td>\n",
              "      <td>1.0</td>\n",
              "      <td>1.0</td>\n",
              "      <td>0.0</td>\n",
              "      <td>1.0</td>\n",
              "      <td>1.0</td>\n",
              "      <td>1.0</td>\n",
              "      <td>0.0</td>\n",
              "      <td>0.0</td>\n",
              "      <td>1.0</td>\n",
              "      <td>1.0</td>\n",
              "      <td>1.0</td>\n",
              "      <td>0.0</td>\n",
              "      <td>1.0</td>\n",
              "    </tr>\n",
              "    <tr>\n",
              "      <th>30</th>\n",
              "      <td>republican</td>\n",
              "      <td>0.0</td>\n",
              "      <td>1.0</td>\n",
              "      <td>0.0</td>\n",
              "      <td>1.0</td>\n",
              "      <td>1.0</td>\n",
              "      <td>1.0</td>\n",
              "      <td>0.0</td>\n",
              "      <td>0.0</td>\n",
              "      <td>0.0</td>\n",
              "      <td>0.0</td>\n",
              "      <td>0.0</td>\n",
              "      <td>1.0</td>\n",
              "      <td>1.0</td>\n",
              "      <td>1.0</td>\n",
              "      <td>0.0</td>\n",
              "      <td>0.0</td>\n",
              "    </tr>\n",
              "    <tr>\n",
              "      <th>33</th>\n",
              "      <td>republican</td>\n",
              "      <td>0.0</td>\n",
              "      <td>1.0</td>\n",
              "      <td>0.0</td>\n",
              "      <td>1.0</td>\n",
              "      <td>1.0</td>\n",
              "      <td>1.0</td>\n",
              "      <td>0.0</td>\n",
              "      <td>0.0</td>\n",
              "      <td>0.0</td>\n",
              "      <td>0.0</td>\n",
              "      <td>0.0</td>\n",
              "      <td>1.0</td>\n",
              "      <td>1.0</td>\n",
              "      <td>1.0</td>\n",
              "      <td>0.0</td>\n",
              "      <td>1.0</td>\n",
              "    </tr>\n",
              "    <tr>\n",
              "      <th>35</th>\n",
              "      <td>republican</td>\n",
              "      <td>0.0</td>\n",
              "      <td>1.0</td>\n",
              "      <td>0.0</td>\n",
              "      <td>1.0</td>\n",
              "      <td>1.0</td>\n",
              "      <td>1.0</td>\n",
              "      <td>0.0</td>\n",
              "      <td>0.0</td>\n",
              "      <td>0.0</td>\n",
              "      <td>0.0</td>\n",
              "      <td>0.0</td>\n",
              "      <td>1.0</td>\n",
              "      <td>1.0</td>\n",
              "      <td>1.0</td>\n",
              "      <td>0.0</td>\n",
              "      <td>0.0</td>\n",
              "    </tr>\n",
              "    <tr>\n",
              "      <th>36</th>\n",
              "      <td>republican</td>\n",
              "      <td>1.0</td>\n",
              "      <td>NaN</td>\n",
              "      <td>0.0</td>\n",
              "      <td>1.0</td>\n",
              "      <td>1.0</td>\n",
              "      <td>1.0</td>\n",
              "      <td>0.0</td>\n",
              "      <td>0.0</td>\n",
              "      <td>0.0</td>\n",
              "      <td>1.0</td>\n",
              "      <td>0.0</td>\n",
              "      <td>1.0</td>\n",
              "      <td>NaN</td>\n",
              "      <td>1.0</td>\n",
              "      <td>0.0</td>\n",
              "      <td>1.0</td>\n",
              "    </tr>\n",
              "    <tr>\n",
              "      <th>37</th>\n",
              "      <td>republican</td>\n",
              "      <td>1.0</td>\n",
              "      <td>1.0</td>\n",
              "      <td>0.0</td>\n",
              "      <td>1.0</td>\n",
              "      <td>1.0</td>\n",
              "      <td>1.0</td>\n",
              "      <td>0.0</td>\n",
              "      <td>0.0</td>\n",
              "      <td>0.0</td>\n",
              "      <td>0.0</td>\n",
              "      <td>0.0</td>\n",
              "      <td>0.0</td>\n",
              "      <td>1.0</td>\n",
              "      <td>1.0</td>\n",
              "      <td>0.0</td>\n",
              "      <td>1.0</td>\n",
              "    </tr>\n",
              "    <tr>\n",
              "      <th>38</th>\n",
              "      <td>republican</td>\n",
              "      <td>0.0</td>\n",
              "      <td>1.0</td>\n",
              "      <td>0.0</td>\n",
              "      <td>1.0</td>\n",
              "      <td>1.0</td>\n",
              "      <td>1.0</td>\n",
              "      <td>0.0</td>\n",
              "      <td>0.0</td>\n",
              "      <td>0.0</td>\n",
              "      <td>1.0</td>\n",
              "      <td>0.0</td>\n",
              "      <td>1.0</td>\n",
              "      <td>1.0</td>\n",
              "      <td>1.0</td>\n",
              "      <td>0.0</td>\n",
              "      <td>0.0</td>\n",
              "    </tr>\n",
              "    <tr>\n",
              "      <th>49</th>\n",
              "      <td>republican</td>\n",
              "      <td>0.0</td>\n",
              "      <td>NaN</td>\n",
              "      <td>0.0</td>\n",
              "      <td>1.0</td>\n",
              "      <td>1.0</td>\n",
              "      <td>1.0</td>\n",
              "      <td>0.0</td>\n",
              "      <td>0.0</td>\n",
              "      <td>0.0</td>\n",
              "      <td>0.0</td>\n",
              "      <td>0.0</td>\n",
              "      <td>1.0</td>\n",
              "      <td>1.0</td>\n",
              "      <td>1.0</td>\n",
              "      <td>0.0</td>\n",
              "      <td>0.0</td>\n",
              "    </tr>\n",
              "    <tr>\n",
              "      <th>51</th>\n",
              "      <td>republican</td>\n",
              "      <td>0.0</td>\n",
              "      <td>1.0</td>\n",
              "      <td>0.0</td>\n",
              "      <td>1.0</td>\n",
              "      <td>1.0</td>\n",
              "      <td>1.0</td>\n",
              "      <td>0.0</td>\n",
              "      <td>NaN</td>\n",
              "      <td>0.0</td>\n",
              "      <td>0.0</td>\n",
              "      <td>0.0</td>\n",
              "      <td>1.0</td>\n",
              "      <td>1.0</td>\n",
              "      <td>1.0</td>\n",
              "      <td>0.0</td>\n",
              "      <td>1.0</td>\n",
              "    </tr>\n",
              "    <tr>\n",
              "      <th>53</th>\n",
              "      <td>republican</td>\n",
              "      <td>1.0</td>\n",
              "      <td>1.0</td>\n",
              "      <td>0.0</td>\n",
              "      <td>1.0</td>\n",
              "      <td>1.0</td>\n",
              "      <td>1.0</td>\n",
              "      <td>0.0</td>\n",
              "      <td>0.0</td>\n",
              "      <td>0.0</td>\n",
              "      <td>1.0</td>\n",
              "      <td>0.0</td>\n",
              "      <td>1.0</td>\n",
              "      <td>1.0</td>\n",
              "      <td>1.0</td>\n",
              "      <td>0.0</td>\n",
              "      <td>0.0</td>\n",
              "    </tr>\n",
              "    <tr>\n",
              "      <th>55</th>\n",
              "      <td>republican</td>\n",
              "      <td>0.0</td>\n",
              "      <td>1.0</td>\n",
              "      <td>0.0</td>\n",
              "      <td>1.0</td>\n",
              "      <td>1.0</td>\n",
              "      <td>1.0</td>\n",
              "      <td>0.0</td>\n",
              "      <td>0.0</td>\n",
              "      <td>0.0</td>\n",
              "      <td>1.0</td>\n",
              "      <td>1.0</td>\n",
              "      <td>1.0</td>\n",
              "      <td>1.0</td>\n",
              "      <td>1.0</td>\n",
              "      <td>0.0</td>\n",
              "      <td>0.0</td>\n",
              "    </tr>\n",
              "    <tr>\n",
              "      <th>56</th>\n",
              "      <td>republican</td>\n",
              "      <td>0.0</td>\n",
              "      <td>1.0</td>\n",
              "      <td>0.0</td>\n",
              "      <td>1.0</td>\n",
              "      <td>1.0</td>\n",
              "      <td>1.0</td>\n",
              "      <td>0.0</td>\n",
              "      <td>0.0</td>\n",
              "      <td>0.0</td>\n",
              "      <td>1.0</td>\n",
              "      <td>1.0</td>\n",
              "      <td>1.0</td>\n",
              "      <td>1.0</td>\n",
              "      <td>1.0</td>\n",
              "      <td>0.0</td>\n",
              "      <td>1.0</td>\n",
              "    </tr>\n",
              "    <tr>\n",
              "      <th>57</th>\n",
              "      <td>republican</td>\n",
              "      <td>0.0</td>\n",
              "      <td>1.0</td>\n",
              "      <td>0.0</td>\n",
              "      <td>1.0</td>\n",
              "      <td>1.0</td>\n",
              "      <td>1.0</td>\n",
              "      <td>0.0</td>\n",
              "      <td>0.0</td>\n",
              "      <td>0.0</td>\n",
              "      <td>1.0</td>\n",
              "      <td>0.0</td>\n",
              "      <td>1.0</td>\n",
              "      <td>1.0</td>\n",
              "      <td>1.0</td>\n",
              "      <td>0.0</td>\n",
              "      <td>1.0</td>\n",
              "    </tr>\n",
              "    <tr>\n",
              "      <th>58</th>\n",
              "      <td>republican</td>\n",
              "      <td>0.0</td>\n",
              "      <td>1.0</td>\n",
              "      <td>0.0</td>\n",
              "      <td>1.0</td>\n",
              "      <td>1.0</td>\n",
              "      <td>1.0</td>\n",
              "      <td>0.0</td>\n",
              "      <td>0.0</td>\n",
              "      <td>0.0</td>\n",
              "      <td>1.0</td>\n",
              "      <td>0.0</td>\n",
              "      <td>1.0</td>\n",
              "      <td>1.0</td>\n",
              "      <td>1.0</td>\n",
              "      <td>0.0</td>\n",
              "      <td>1.0</td>\n",
              "    </tr>\n",
              "    <tr>\n",
              "      <th>59</th>\n",
              "      <td>republican</td>\n",
              "      <td>0.0</td>\n",
              "      <td>1.0</td>\n",
              "      <td>0.0</td>\n",
              "      <td>1.0</td>\n",
              "      <td>1.0</td>\n",
              "      <td>1.0</td>\n",
              "      <td>0.0</td>\n",
              "      <td>0.0</td>\n",
              "      <td>0.0</td>\n",
              "      <td>1.0</td>\n",
              "      <td>0.0</td>\n",
              "      <td>1.0</td>\n",
              "      <td>1.0</td>\n",
              "      <td>1.0</td>\n",
              "      <td>0.0</td>\n",
              "      <td>NaN</td>\n",
              "    </tr>\n",
              "    <tr>\n",
              "      <th>61</th>\n",
              "      <td>republican</td>\n",
              "      <td>0.0</td>\n",
              "      <td>1.0</td>\n",
              "      <td>0.0</td>\n",
              "      <td>1.0</td>\n",
              "      <td>1.0</td>\n",
              "      <td>1.0</td>\n",
              "      <td>0.0</td>\n",
              "      <td>0.0</td>\n",
              "      <td>0.0</td>\n",
              "      <td>0.0</td>\n",
              "      <td>0.0</td>\n",
              "      <td>1.0</td>\n",
              "      <td>1.0</td>\n",
              "      <td>1.0</td>\n",
              "      <td>0.0</td>\n",
              "      <td>0.0</td>\n",
              "    </tr>\n",
              "  </tbody>\n",
              "</table>\n",
              "</div>"
            ],
            "text/plain": [
              "         party  handicapped-infants  ...  duty-free  south-africa\n",
              "0   republican                  0.0  ...        0.0           1.0\n",
              "1   republican                  0.0  ...        0.0           NaN\n",
              "7   republican                  0.0  ...        NaN           1.0\n",
              "8   republican                  0.0  ...        0.0           1.0\n",
              "10  republican                  0.0  ...        0.0           0.0\n",
              "11  republican                  0.0  ...        NaN           NaN\n",
              "14  republican                  0.0  ...        0.0           NaN\n",
              "15  republican                  0.0  ...        0.0           NaN\n",
              "18  republican                  0.0  ...        0.0           0.0\n",
              "28  republican                  1.0  ...        0.0           1.0\n",
              "30  republican                  0.0  ...        0.0           0.0\n",
              "33  republican                  0.0  ...        0.0           1.0\n",
              "35  republican                  0.0  ...        0.0           0.0\n",
              "36  republican                  1.0  ...        0.0           1.0\n",
              "37  republican                  1.0  ...        0.0           1.0\n",
              "38  republican                  0.0  ...        0.0           0.0\n",
              "49  republican                  0.0  ...        0.0           0.0\n",
              "51  republican                  0.0  ...        0.0           1.0\n",
              "53  republican                  1.0  ...        0.0           0.0\n",
              "55  republican                  0.0  ...        0.0           0.0\n",
              "56  republican                  0.0  ...        0.0           1.0\n",
              "57  republican                  0.0  ...        0.0           1.0\n",
              "58  republican                  0.0  ...        0.0           1.0\n",
              "59  republican                  0.0  ...        0.0           NaN\n",
              "61  republican                  0.0  ...        0.0           0.0\n",
              "\n",
              "[25 rows x 17 columns]"
            ]
          },
          "metadata": {
            "tags": []
          },
          "execution_count": 42
        }
      ]
    },
    {
      "cell_type": "code",
      "metadata": {
        "id": "oCHf0pGSeRD4",
        "colab_type": "code",
        "outputId": "382c1cf7-8fce-4679-e7de-23d0765fcd91",
        "colab": {
          "base_uri": "https://localhost:8080/",
          "height": 888
        }
      },
      "source": [
        "dem.head(25)"
      ],
      "execution_count": 49,
      "outputs": [
        {
          "output_type": "execute_result",
          "data": {
            "text/html": [
              "<div>\n",
              "<style scoped>\n",
              "    .dataframe tbody tr th:only-of-type {\n",
              "        vertical-align: middle;\n",
              "    }\n",
              "\n",
              "    .dataframe tbody tr th {\n",
              "        vertical-align: top;\n",
              "    }\n",
              "\n",
              "    .dataframe thead th {\n",
              "        text-align: right;\n",
              "    }\n",
              "</style>\n",
              "<table border=\"1\" class=\"dataframe\">\n",
              "  <thead>\n",
              "    <tr style=\"text-align: right;\">\n",
              "      <th></th>\n",
              "      <th>party</th>\n",
              "      <th>handicapped-infants</th>\n",
              "      <th>water-project</th>\n",
              "      <th>budget</th>\n",
              "      <th>physician-fee-freeze</th>\n",
              "      <th>el-salvador-aid</th>\n",
              "      <th>religious-groups</th>\n",
              "      <th>anti-satellite-ban</th>\n",
              "      <th>aid-to-contras</th>\n",
              "      <th>mx-missile</th>\n",
              "      <th>immigration</th>\n",
              "      <th>synfuels</th>\n",
              "      <th>education</th>\n",
              "      <th>right-to-sue</th>\n",
              "      <th>crime</th>\n",
              "      <th>duty-free</th>\n",
              "      <th>south-africa</th>\n",
              "    </tr>\n",
              "  </thead>\n",
              "  <tbody>\n",
              "    <tr>\n",
              "      <th>2</th>\n",
              "      <td>democrat</td>\n",
              "      <td>NaN</td>\n",
              "      <td>1.0</td>\n",
              "      <td>1.0</td>\n",
              "      <td>NaN</td>\n",
              "      <td>1.0</td>\n",
              "      <td>1.0</td>\n",
              "      <td>0.0</td>\n",
              "      <td>0.0</td>\n",
              "      <td>0.0</td>\n",
              "      <td>0.0</td>\n",
              "      <td>1.0</td>\n",
              "      <td>0.0</td>\n",
              "      <td>1.0</td>\n",
              "      <td>1.0</td>\n",
              "      <td>0.0</td>\n",
              "      <td>0.0</td>\n",
              "    </tr>\n",
              "    <tr>\n",
              "      <th>3</th>\n",
              "      <td>democrat</td>\n",
              "      <td>0.0</td>\n",
              "      <td>1.0</td>\n",
              "      <td>1.0</td>\n",
              "      <td>0.0</td>\n",
              "      <td>NaN</td>\n",
              "      <td>1.0</td>\n",
              "      <td>0.0</td>\n",
              "      <td>0.0</td>\n",
              "      <td>0.0</td>\n",
              "      <td>0.0</td>\n",
              "      <td>1.0</td>\n",
              "      <td>0.0</td>\n",
              "      <td>1.0</td>\n",
              "      <td>0.0</td>\n",
              "      <td>0.0</td>\n",
              "      <td>1.0</td>\n",
              "    </tr>\n",
              "    <tr>\n",
              "      <th>4</th>\n",
              "      <td>democrat</td>\n",
              "      <td>1.0</td>\n",
              "      <td>1.0</td>\n",
              "      <td>1.0</td>\n",
              "      <td>0.0</td>\n",
              "      <td>1.0</td>\n",
              "      <td>1.0</td>\n",
              "      <td>0.0</td>\n",
              "      <td>0.0</td>\n",
              "      <td>0.0</td>\n",
              "      <td>0.0</td>\n",
              "      <td>1.0</td>\n",
              "      <td>NaN</td>\n",
              "      <td>1.0</td>\n",
              "      <td>1.0</td>\n",
              "      <td>1.0</td>\n",
              "      <td>1.0</td>\n",
              "    </tr>\n",
              "    <tr>\n",
              "      <th>5</th>\n",
              "      <td>democrat</td>\n",
              "      <td>0.0</td>\n",
              "      <td>1.0</td>\n",
              "      <td>1.0</td>\n",
              "      <td>0.0</td>\n",
              "      <td>1.0</td>\n",
              "      <td>1.0</td>\n",
              "      <td>0.0</td>\n",
              "      <td>0.0</td>\n",
              "      <td>0.0</td>\n",
              "      <td>0.0</td>\n",
              "      <td>0.0</td>\n",
              "      <td>0.0</td>\n",
              "      <td>1.0</td>\n",
              "      <td>1.0</td>\n",
              "      <td>1.0</td>\n",
              "      <td>1.0</td>\n",
              "    </tr>\n",
              "    <tr>\n",
              "      <th>6</th>\n",
              "      <td>democrat</td>\n",
              "      <td>0.0</td>\n",
              "      <td>1.0</td>\n",
              "      <td>0.0</td>\n",
              "      <td>1.0</td>\n",
              "      <td>1.0</td>\n",
              "      <td>1.0</td>\n",
              "      <td>0.0</td>\n",
              "      <td>0.0</td>\n",
              "      <td>0.0</td>\n",
              "      <td>0.0</td>\n",
              "      <td>0.0</td>\n",
              "      <td>0.0</td>\n",
              "      <td>NaN</td>\n",
              "      <td>1.0</td>\n",
              "      <td>1.0</td>\n",
              "      <td>1.0</td>\n",
              "    </tr>\n",
              "    <tr>\n",
              "      <th>9</th>\n",
              "      <td>democrat</td>\n",
              "      <td>1.0</td>\n",
              "      <td>1.0</td>\n",
              "      <td>1.0</td>\n",
              "      <td>0.0</td>\n",
              "      <td>0.0</td>\n",
              "      <td>0.0</td>\n",
              "      <td>1.0</td>\n",
              "      <td>1.0</td>\n",
              "      <td>1.0</td>\n",
              "      <td>0.0</td>\n",
              "      <td>0.0</td>\n",
              "      <td>0.0</td>\n",
              "      <td>0.0</td>\n",
              "      <td>0.0</td>\n",
              "      <td>NaN</td>\n",
              "      <td>NaN</td>\n",
              "    </tr>\n",
              "    <tr>\n",
              "      <th>12</th>\n",
              "      <td>democrat</td>\n",
              "      <td>0.0</td>\n",
              "      <td>1.0</td>\n",
              "      <td>1.0</td>\n",
              "      <td>0.0</td>\n",
              "      <td>0.0</td>\n",
              "      <td>0.0</td>\n",
              "      <td>1.0</td>\n",
              "      <td>1.0</td>\n",
              "      <td>1.0</td>\n",
              "      <td>0.0</td>\n",
              "      <td>0.0</td>\n",
              "      <td>0.0</td>\n",
              "      <td>1.0</td>\n",
              "      <td>0.0</td>\n",
              "      <td>NaN</td>\n",
              "      <td>NaN</td>\n",
              "    </tr>\n",
              "    <tr>\n",
              "      <th>13</th>\n",
              "      <td>democrat</td>\n",
              "      <td>1.0</td>\n",
              "      <td>1.0</td>\n",
              "      <td>1.0</td>\n",
              "      <td>0.0</td>\n",
              "      <td>0.0</td>\n",
              "      <td>1.0</td>\n",
              "      <td>1.0</td>\n",
              "      <td>1.0</td>\n",
              "      <td>NaN</td>\n",
              "      <td>1.0</td>\n",
              "      <td>1.0</td>\n",
              "      <td>NaN</td>\n",
              "      <td>0.0</td>\n",
              "      <td>0.0</td>\n",
              "      <td>1.0</td>\n",
              "      <td>NaN</td>\n",
              "    </tr>\n",
              "    <tr>\n",
              "      <th>16</th>\n",
              "      <td>democrat</td>\n",
              "      <td>1.0</td>\n",
              "      <td>0.0</td>\n",
              "      <td>1.0</td>\n",
              "      <td>0.0</td>\n",
              "      <td>0.0</td>\n",
              "      <td>1.0</td>\n",
              "      <td>0.0</td>\n",
              "      <td>1.0</td>\n",
              "      <td>NaN</td>\n",
              "      <td>1.0</td>\n",
              "      <td>1.0</td>\n",
              "      <td>1.0</td>\n",
              "      <td>NaN</td>\n",
              "      <td>0.0</td>\n",
              "      <td>0.0</td>\n",
              "      <td>1.0</td>\n",
              "    </tr>\n",
              "    <tr>\n",
              "      <th>17</th>\n",
              "      <td>democrat</td>\n",
              "      <td>1.0</td>\n",
              "      <td>NaN</td>\n",
              "      <td>1.0</td>\n",
              "      <td>0.0</td>\n",
              "      <td>0.0</td>\n",
              "      <td>0.0</td>\n",
              "      <td>1.0</td>\n",
              "      <td>1.0</td>\n",
              "      <td>1.0</td>\n",
              "      <td>0.0</td>\n",
              "      <td>0.0</td>\n",
              "      <td>0.0</td>\n",
              "      <td>1.0</td>\n",
              "      <td>0.0</td>\n",
              "      <td>1.0</td>\n",
              "      <td>1.0</td>\n",
              "    </tr>\n",
              "    <tr>\n",
              "      <th>19</th>\n",
              "      <td>democrat</td>\n",
              "      <td>1.0</td>\n",
              "      <td>1.0</td>\n",
              "      <td>1.0</td>\n",
              "      <td>0.0</td>\n",
              "      <td>0.0</td>\n",
              "      <td>0.0</td>\n",
              "      <td>1.0</td>\n",
              "      <td>1.0</td>\n",
              "      <td>1.0</td>\n",
              "      <td>0.0</td>\n",
              "      <td>1.0</td>\n",
              "      <td>0.0</td>\n",
              "      <td>0.0</td>\n",
              "      <td>0.0</td>\n",
              "      <td>1.0</td>\n",
              "      <td>1.0</td>\n",
              "    </tr>\n",
              "    <tr>\n",
              "      <th>20</th>\n",
              "      <td>democrat</td>\n",
              "      <td>1.0</td>\n",
              "      <td>1.0</td>\n",
              "      <td>1.0</td>\n",
              "      <td>0.0</td>\n",
              "      <td>0.0</td>\n",
              "      <td>NaN</td>\n",
              "      <td>1.0</td>\n",
              "      <td>1.0</td>\n",
              "      <td>0.0</td>\n",
              "      <td>0.0</td>\n",
              "      <td>1.0</td>\n",
              "      <td>0.0</td>\n",
              "      <td>0.0</td>\n",
              "      <td>0.0</td>\n",
              "      <td>1.0</td>\n",
              "      <td>1.0</td>\n",
              "    </tr>\n",
              "    <tr>\n",
              "      <th>21</th>\n",
              "      <td>democrat</td>\n",
              "      <td>1.0</td>\n",
              "      <td>1.0</td>\n",
              "      <td>1.0</td>\n",
              "      <td>0.0</td>\n",
              "      <td>0.0</td>\n",
              "      <td>0.0</td>\n",
              "      <td>1.0</td>\n",
              "      <td>1.0</td>\n",
              "      <td>1.0</td>\n",
              "      <td>0.0</td>\n",
              "      <td>0.0</td>\n",
              "      <td>0.0</td>\n",
              "      <td>NaN</td>\n",
              "      <td>NaN</td>\n",
              "      <td>1.0</td>\n",
              "      <td>1.0</td>\n",
              "    </tr>\n",
              "    <tr>\n",
              "      <th>22</th>\n",
              "      <td>democrat</td>\n",
              "      <td>1.0</td>\n",
              "      <td>NaN</td>\n",
              "      <td>1.0</td>\n",
              "      <td>0.0</td>\n",
              "      <td>0.0</td>\n",
              "      <td>0.0</td>\n",
              "      <td>1.0</td>\n",
              "      <td>1.0</td>\n",
              "      <td>1.0</td>\n",
              "      <td>0.0</td>\n",
              "      <td>0.0</td>\n",
              "      <td>NaN</td>\n",
              "      <td>0.0</td>\n",
              "      <td>0.0</td>\n",
              "      <td>1.0</td>\n",
              "      <td>1.0</td>\n",
              "    </tr>\n",
              "    <tr>\n",
              "      <th>23</th>\n",
              "      <td>democrat</td>\n",
              "      <td>1.0</td>\n",
              "      <td>1.0</td>\n",
              "      <td>1.0</td>\n",
              "      <td>0.0</td>\n",
              "      <td>0.0</td>\n",
              "      <td>0.0</td>\n",
              "      <td>1.0</td>\n",
              "      <td>1.0</td>\n",
              "      <td>1.0</td>\n",
              "      <td>0.0</td>\n",
              "      <td>0.0</td>\n",
              "      <td>0.0</td>\n",
              "      <td>0.0</td>\n",
              "      <td>0.0</td>\n",
              "      <td>1.0</td>\n",
              "      <td>1.0</td>\n",
              "    </tr>\n",
              "    <tr>\n",
              "      <th>24</th>\n",
              "      <td>democrat</td>\n",
              "      <td>1.0</td>\n",
              "      <td>0.0</td>\n",
              "      <td>1.0</td>\n",
              "      <td>0.0</td>\n",
              "      <td>0.0</td>\n",
              "      <td>0.0</td>\n",
              "      <td>1.0</td>\n",
              "      <td>1.0</td>\n",
              "      <td>1.0</td>\n",
              "      <td>0.0</td>\n",
              "      <td>0.0</td>\n",
              "      <td>0.0</td>\n",
              "      <td>0.0</td>\n",
              "      <td>0.0</td>\n",
              "      <td>1.0</td>\n",
              "      <td>NaN</td>\n",
              "    </tr>\n",
              "    <tr>\n",
              "      <th>25</th>\n",
              "      <td>democrat</td>\n",
              "      <td>1.0</td>\n",
              "      <td>0.0</td>\n",
              "      <td>1.0</td>\n",
              "      <td>0.0</td>\n",
              "      <td>0.0</td>\n",
              "      <td>0.0</td>\n",
              "      <td>1.0</td>\n",
              "      <td>1.0</td>\n",
              "      <td>1.0</td>\n",
              "      <td>1.0</td>\n",
              "      <td>0.0</td>\n",
              "      <td>0.0</td>\n",
              "      <td>0.0</td>\n",
              "      <td>0.0</td>\n",
              "      <td>1.0</td>\n",
              "      <td>1.0</td>\n",
              "    </tr>\n",
              "    <tr>\n",
              "      <th>26</th>\n",
              "      <td>democrat</td>\n",
              "      <td>1.0</td>\n",
              "      <td>0.0</td>\n",
              "      <td>1.0</td>\n",
              "      <td>0.0</td>\n",
              "      <td>0.0</td>\n",
              "      <td>0.0</td>\n",
              "      <td>1.0</td>\n",
              "      <td>1.0</td>\n",
              "      <td>1.0</td>\n",
              "      <td>0.0</td>\n",
              "      <td>1.0</td>\n",
              "      <td>0.0</td>\n",
              "      <td>0.0</td>\n",
              "      <td>0.0</td>\n",
              "      <td>1.0</td>\n",
              "      <td>1.0</td>\n",
              "    </tr>\n",
              "    <tr>\n",
              "      <th>27</th>\n",
              "      <td>democrat</td>\n",
              "      <td>1.0</td>\n",
              "      <td>1.0</td>\n",
              "      <td>1.0</td>\n",
              "      <td>0.0</td>\n",
              "      <td>0.0</td>\n",
              "      <td>0.0</td>\n",
              "      <td>1.0</td>\n",
              "      <td>1.0</td>\n",
              "      <td>1.0</td>\n",
              "      <td>0.0</td>\n",
              "      <td>1.0</td>\n",
              "      <td>0.0</td>\n",
              "      <td>0.0</td>\n",
              "      <td>0.0</td>\n",
              "      <td>1.0</td>\n",
              "      <td>1.0</td>\n",
              "    </tr>\n",
              "    <tr>\n",
              "      <th>29</th>\n",
              "      <td>democrat</td>\n",
              "      <td>1.0</td>\n",
              "      <td>1.0</td>\n",
              "      <td>1.0</td>\n",
              "      <td>0.0</td>\n",
              "      <td>0.0</td>\n",
              "      <td>0.0</td>\n",
              "      <td>1.0</td>\n",
              "      <td>1.0</td>\n",
              "      <td>1.0</td>\n",
              "      <td>0.0</td>\n",
              "      <td>1.0</td>\n",
              "      <td>0.0</td>\n",
              "      <td>0.0</td>\n",
              "      <td>0.0</td>\n",
              "      <td>1.0</td>\n",
              "      <td>1.0</td>\n",
              "    </tr>\n",
              "    <tr>\n",
              "      <th>31</th>\n",
              "      <td>democrat</td>\n",
              "      <td>1.0</td>\n",
              "      <td>1.0</td>\n",
              "      <td>1.0</td>\n",
              "      <td>0.0</td>\n",
              "      <td>0.0</td>\n",
              "      <td>0.0</td>\n",
              "      <td>1.0</td>\n",
              "      <td>1.0</td>\n",
              "      <td>1.0</td>\n",
              "      <td>0.0</td>\n",
              "      <td>1.0</td>\n",
              "      <td>0.0</td>\n",
              "      <td>0.0</td>\n",
              "      <td>0.0</td>\n",
              "      <td>1.0</td>\n",
              "      <td>NaN</td>\n",
              "    </tr>\n",
              "    <tr>\n",
              "      <th>32</th>\n",
              "      <td>democrat</td>\n",
              "      <td>1.0</td>\n",
              "      <td>1.0</td>\n",
              "      <td>1.0</td>\n",
              "      <td>0.0</td>\n",
              "      <td>0.0</td>\n",
              "      <td>0.0</td>\n",
              "      <td>1.0</td>\n",
              "      <td>1.0</td>\n",
              "      <td>1.0</td>\n",
              "      <td>1.0</td>\n",
              "      <td>0.0</td>\n",
              "      <td>0.0</td>\n",
              "      <td>1.0</td>\n",
              "      <td>0.0</td>\n",
              "      <td>1.0</td>\n",
              "      <td>1.0</td>\n",
              "    </tr>\n",
              "    <tr>\n",
              "      <th>34</th>\n",
              "      <td>democrat</td>\n",
              "      <td>1.0</td>\n",
              "      <td>1.0</td>\n",
              "      <td>1.0</td>\n",
              "      <td>0.0</td>\n",
              "      <td>0.0</td>\n",
              "      <td>0.0</td>\n",
              "      <td>1.0</td>\n",
              "      <td>1.0</td>\n",
              "      <td>1.0</td>\n",
              "      <td>0.0</td>\n",
              "      <td>0.0</td>\n",
              "      <td>0.0</td>\n",
              "      <td>0.0</td>\n",
              "      <td>0.0</td>\n",
              "      <td>1.0</td>\n",
              "      <td>1.0</td>\n",
              "    </tr>\n",
              "    <tr>\n",
              "      <th>39</th>\n",
              "      <td>democrat</td>\n",
              "      <td>1.0</td>\n",
              "      <td>0.0</td>\n",
              "      <td>1.0</td>\n",
              "      <td>0.0</td>\n",
              "      <td>0.0</td>\n",
              "      <td>0.0</td>\n",
              "      <td>1.0</td>\n",
              "      <td>1.0</td>\n",
              "      <td>1.0</td>\n",
              "      <td>1.0</td>\n",
              "      <td>1.0</td>\n",
              "      <td>0.0</td>\n",
              "      <td>1.0</td>\n",
              "      <td>0.0</td>\n",
              "      <td>1.0</td>\n",
              "      <td>1.0</td>\n",
              "    </tr>\n",
              "    <tr>\n",
              "      <th>40</th>\n",
              "      <td>democrat</td>\n",
              "      <td>1.0</td>\n",
              "      <td>1.0</td>\n",
              "      <td>1.0</td>\n",
              "      <td>0.0</td>\n",
              "      <td>0.0</td>\n",
              "      <td>0.0</td>\n",
              "      <td>1.0</td>\n",
              "      <td>1.0</td>\n",
              "      <td>1.0</td>\n",
              "      <td>0.0</td>\n",
              "      <td>NaN</td>\n",
              "      <td>0.0</td>\n",
              "      <td>0.0</td>\n",
              "      <td>0.0</td>\n",
              "      <td>0.0</td>\n",
              "      <td>NaN</td>\n",
              "    </tr>\n",
              "  </tbody>\n",
              "</table>\n",
              "</div>"
            ],
            "text/plain": [
              "       party  handicapped-infants  ...  duty-free  south-africa\n",
              "2   democrat                  NaN  ...        0.0           0.0\n",
              "3   democrat                  0.0  ...        0.0           1.0\n",
              "4   democrat                  1.0  ...        1.0           1.0\n",
              "5   democrat                  0.0  ...        1.0           1.0\n",
              "6   democrat                  0.0  ...        1.0           1.0\n",
              "9   democrat                  1.0  ...        NaN           NaN\n",
              "12  democrat                  0.0  ...        NaN           NaN\n",
              "13  democrat                  1.0  ...        1.0           NaN\n",
              "16  democrat                  1.0  ...        0.0           1.0\n",
              "17  democrat                  1.0  ...        1.0           1.0\n",
              "19  democrat                  1.0  ...        1.0           1.0\n",
              "20  democrat                  1.0  ...        1.0           1.0\n",
              "21  democrat                  1.0  ...        1.0           1.0\n",
              "22  democrat                  1.0  ...        1.0           1.0\n",
              "23  democrat                  1.0  ...        1.0           1.0\n",
              "24  democrat                  1.0  ...        1.0           NaN\n",
              "25  democrat                  1.0  ...        1.0           1.0\n",
              "26  democrat                  1.0  ...        1.0           1.0\n",
              "27  democrat                  1.0  ...        1.0           1.0\n",
              "29  democrat                  1.0  ...        1.0           1.0\n",
              "31  democrat                  1.0  ...        1.0           NaN\n",
              "32  democrat                  1.0  ...        1.0           1.0\n",
              "34  democrat                  1.0  ...        1.0           1.0\n",
              "39  democrat                  1.0  ...        1.0           1.0\n",
              "40  democrat                  1.0  ...        0.0           NaN\n",
              "\n",
              "[25 rows x 17 columns]"
            ]
          },
          "metadata": {
            "tags": []
          },
          "execution_count": 49
        }
      ]
    },
    {
      "cell_type": "markdown",
      "metadata": {
        "id": "dq9FfTcdeURJ",
        "colab_type": "text"
      },
      "source": [
        "## 1-sample T-test\n",
        "\n",
        "When you're doing a 1-sample t-test, you get to pick what your null hypothesis value is. You get to pick what your conception of the population is.\n",
        "\n",
        "Republicans on the handicapped-infants bill\n",
        "\n",
        "Null Hypothesis: Republicans are split on this issue, 50% support, 50% do not support this bill. Republican support, (the mean of yes-no votes on this bill for republicans is .5)\n",
        "\n",
        "$H_0: \\mu = =\\bar{x}$ ($\\mu$ is .5)\n",
        "\n",
        "I got to pick the .5! \n",
        "\n",
        "I could have said that I want to test that republican support is 30%, or 80%, or 100%, or 0%. It's whatever I want to pick. \n",
        "\n",
        "By choosing your null hypothesis value you get to frame the question that you're asking. \n",
        "\n",
        "Alternative: $H_a: \\mu \\neq \\bar{x}$ Republican support is not 50% (it's something other than 50%)\n",
        "\n",
        "Confidence Level: 95% (I'll compare my p-value to the threshold of .05)"
      ]
    },
    {
      "cell_type": "code",
      "metadata": {
        "id": "Au-paQ1GfhpU",
        "colab_type": "code",
        "outputId": "4c6ceb78-e10c-4e9e-f4cc-dfaf9240d9b2",
        "colab": {
          "base_uri": "https://localhost:8080/",
          "height": 35
        }
      },
      "source": [
        "# I'll get nans for my t-stat and p-value if there are NaNs in my sample\n",
        "stats.ttest_1samp(rep['handicapped-infants'], .5)"
      ],
      "execution_count": 39,
      "outputs": [
        {
          "output_type": "execute_result",
          "data": {
            "text/plain": [
              "Ttest_1sampResult(statistic=nan, pvalue=nan)"
            ]
          },
          "metadata": {
            "tags": []
          },
          "execution_count": 39
        }
      ]
    },
    {
      "cell_type": "code",
      "metadata": {
        "id": "97SYOL1if8Fa",
        "colab_type": "code",
        "outputId": "8748f32a-6e00-4011-cc64-0aaf848fa205",
        "colab": {
          "base_uri": "https://localhost:8080/",
          "height": 35
        }
      },
      "source": [
        "# nan_policy = 'omit' will automatically drop the NaNs from the column for me\n",
        "stats.ttest_1samp(rep['handicapped-infants'], .5, nan_policy='omit')"
      ],
      "execution_count": 40,
      "outputs": [
        {
          "output_type": "execute_result",
          "data": {
            "text/plain": [
              "Ttest_1sampResult(statistic=-10.232833482397659, pvalue=2.572179359890009e-19)"
            ]
          },
          "metadata": {
            "tags": []
          },
          "execution_count": 40
        }
      ]
    },
    {
      "cell_type": "markdown",
      "metadata": {
        "id": "wBz2TD2SgDxP",
        "colab_type": "text"
      },
      "source": [
        "Conclusion: \n",
        "\n",
        "Reject the null hypothesis.\n",
        "\n",
        "It's likely that republican support is different than 50%"
      ]
    },
    {
      "cell_type": "code",
      "metadata": {
        "id": "rSCwnvgDgMQe",
        "colab_type": "code",
        "outputId": "665ea2f0-a686-4cc7-b6d1-7e5c71993cc0",
        "colab": {
          "base_uri": "https://localhost:8080/",
          "height": 35
        }
      },
      "source": [
        "rep['handicapped-infants'].mean()"
      ],
      "execution_count": 41,
      "outputs": [
        {
          "output_type": "execute_result",
          "data": {
            "text/plain": [
              "0.18787878787878787"
            ]
          },
          "metadata": {
            "tags": []
          },
          "execution_count": 41
        }
      ]
    },
    {
      "cell_type": "markdown",
      "metadata": {
        "id": "88iVoDt3grJI",
        "colab_type": "text"
      },
      "source": [
        "## 2-sample t-test\n",
        "\n",
        "Null Hypothesis: The two samples are the same\n",
        "\n",
        "Alternative: The two samples are different\n",
        "\n",
        "(I do not get choose my null hypothesis. It's always that they're the same in a 2-sample test)\n",
        "\n",
        "Confidence Level: 95%"
      ]
    },
    {
      "cell_type": "code",
      "metadata": {
        "id": "hk_C__ADg7x4",
        "colab_type": "code",
        "outputId": "7fd809bd-91ee-4ed8-bc18-99aa85cb2245",
        "colab": {
          "base_uri": "https://localhost:8080/",
          "height": 34
        }
      },
      "source": [
        "stats.ttest_ind(rep['handicapped-infants'], dem['handicapped-infants'], nan_policy='omit')"
      ],
      "execution_count": 0,
      "outputs": [
        {
          "output_type": "execute_result",
          "data": {
            "text/plain": [
              "Ttest_indResult(statistic=-9.205264294809222, pvalue=1.613440327937243e-18)"
            ]
          },
          "metadata": {
            "tags": []
          },
          "execution_count": 116
        }
      ]
    },
    {
      "cell_type": "markdown",
      "metadata": {
        "id": "mzneddaJhD6G",
        "colab_type": "text"
      },
      "source": [
        "Conclusion: based on a p-value of ~0, I reject the null hypothesis, that democrats and republicans support this bill at the same level -in same proportions. "
      ]
    },
    {
      "cell_type": "code",
      "metadata": {
        "id": "v7Jb9x5whNYt",
        "colab_type": "code",
        "outputId": "f8a7b01d-b786-43a1-e1b1-ab4a7d5b2a23",
        "colab": {
          "base_uri": "https://localhost:8080/",
          "height": 34
        }
      },
      "source": [
        "rep['handicapped-infants'].mean()"
      ],
      "execution_count": 0,
      "outputs": [
        {
          "output_type": "execute_result",
          "data": {
            "text/plain": [
              "0.18787878787878787"
            ]
          },
          "metadata": {
            "tags": []
          },
          "execution_count": 117
        }
      ]
    },
    {
      "cell_type": "code",
      "metadata": {
        "id": "Z2qSWlp_hQVh",
        "colab_type": "code",
        "outputId": "6f646264-0e31-49f0-aadd-98dcbdec97de",
        "colab": {
          "base_uri": "https://localhost:8080/",
          "height": 34
        }
      },
      "source": [
        "dem['handicapped-infants'].mean()"
      ],
      "execution_count": 0,
      "outputs": [
        {
          "output_type": "execute_result",
          "data": {
            "text/plain": [
              "0.6046511627906976"
            ]
          },
          "metadata": {
            "tags": []
          },
          "execution_count": 118
        }
      ]
    },
    {
      "cell_type": "code",
      "metadata": {
        "id": "3LjYoLhqDQ0a",
        "colab_type": "code",
        "colab": {
          "base_uri": "https://localhost:8080/",
          "height": 35
        },
        "outputId": "d48bd919-b2ad-4f1f-abc4-a48d95721149"
      },
      "source": [
        "#1, democrat supported more than republican...wow much more\n",
        "dem['budget'].mean()"
      ],
      "execution_count": 46,
      "outputs": [
        {
          "output_type": "execute_result",
          "data": {
            "text/plain": [
              "0.8884615384615384"
            ]
          },
          "metadata": {
            "tags": []
          },
          "execution_count": 46
        }
      ]
    },
    {
      "cell_type": "code",
      "metadata": {
        "id": "EsIWm1wBDRB9",
        "colab_type": "code",
        "colab": {
          "base_uri": "https://localhost:8080/",
          "height": 35
        },
        "outputId": "adbb1b7d-6c1f-402e-ff43-91b40b6e5780"
      },
      "source": [
        "rep['budget'].mean()"
      ],
      "execution_count": 47,
      "outputs": [
        {
          "output_type": "execute_result",
          "data": {
            "text/plain": [
              "0.13414634146341464"
            ]
          },
          "metadata": {
            "tags": []
          },
          "execution_count": 47
        }
      ]
    },
    {
      "cell_type": "code",
      "metadata": {
        "id": "PxZpPFZODq4R",
        "colab_type": "code",
        "colab": {
          "base_uri": "https://localhost:8080/",
          "height": 35
        },
        "outputId": "bfe96f92-0324-4e82-87b6-8e86c7cdcc9a"
      },
      "source": [
        "stats.ttest_ind(rep['budget'],dem['budget'], nan_policy='omit')"
      ],
      "execution_count": 48,
      "outputs": [
        {
          "output_type": "execute_result",
          "data": {
            "text/plain": [
              "Ttest_indResult(statistic=-23.21277691701378, pvalue=2.0703402795404463e-77)"
            ]
          },
          "metadata": {
            "tags": []
          },
          "execution_count": 48
        }
      ]
    },
    {
      "cell_type": "code",
      "metadata": {
        "id": "g7X7YK_O_wF3",
        "colab_type": "code",
        "colab": {
          "base_uri": "https://localhost:8080/",
          "height": 35
        },
        "outputId": "c4ca4173-34c6-48bf-e4e3-89d6b969fad6"
      },
      "source": [
        "#2, republicans support more than democrats\n",
        "#democratic vote on religious groups\n",
        "dem['religious-groups'].mean()\n"
      ],
      "execution_count": 44,
      "outputs": [
        {
          "output_type": "execute_result",
          "data": {
            "text/plain": [
              "0.47674418604651164"
            ]
          },
          "metadata": {
            "tags": []
          },
          "execution_count": 44
        }
      ]
    },
    {
      "cell_type": "code",
      "metadata": {
        "id": "VtO2mSjq_weZ",
        "colab_type": "code",
        "colab": {
          "base_uri": "https://localhost:8080/",
          "height": 35
        },
        "outputId": "70a4a28e-d90e-443a-a50b-ac754a48d643"
      },
      "source": [
        "#republican vote on religious groups\n",
        "rep['religious-groups'].mean()"
      ],
      "execution_count": 45,
      "outputs": [
        {
          "output_type": "execute_result",
          "data": {
            "text/plain": [
              "0.8975903614457831"
            ]
          },
          "metadata": {
            "tags": []
          },
          "execution_count": 45
        }
      ]
    },
    {
      "cell_type": "code",
      "metadata": {
        "id": "2ieTcbJX_QjL",
        "colab_type": "code",
        "colab": {
          "base_uri": "https://localhost:8080/",
          "height": 35
        },
        "outputId": "8f2a0da2-3e82-4879-cbcf-b14077b0c923"
      },
      "source": [
        "stats.ttest_ind(rep['religious-groups'], dem['religious-groups'], nan_policy='omit')"
      ],
      "execution_count": 43,
      "outputs": [
        {
          "output_type": "execute_result",
          "data": {
            "text/plain": [
              "Ttest_indResult(statistic=9.737575825219457, pvalue=2.3936722520597287e-20)"
            ]
          },
          "metadata": {
            "tags": []
          },
          "execution_count": 43
        }
      ]
    },
    {
      "cell_type": "code",
      "metadata": {
        "id": "pQuq6zkvD85n",
        "colab_type": "code",
        "colab": {
          "base_uri": "https://localhost:8080/",
          "height": 35
        },
        "outputId": "8b7af5e1-ff01-4fca-cf79-338fc8c9c4ea"
      },
      "source": [
        "#3, Issue where Rep and Dem P>.1, essentialyl relatively same voting, or somewhat close\n",
        "rep['immigration'].mean()\n"
      ],
      "execution_count": 50,
      "outputs": [
        {
          "output_type": "execute_result",
          "data": {
            "text/plain": [
              "0.5575757575757576"
            ]
          },
          "metadata": {
            "tags": []
          },
          "execution_count": 50
        }
      ]
    },
    {
      "cell_type": "code",
      "metadata": {
        "id": "PZIkPq2pHDDo",
        "colab_type": "code",
        "colab": {
          "base_uri": "https://localhost:8080/",
          "height": 35
        },
        "outputId": "e7f3678a-39ff-4a06-de37-d3fe7fbee5bb"
      },
      "source": [
        "dem['immigration'].mean()\n",
        "\n"
      ],
      "execution_count": 52,
      "outputs": [
        {
          "output_type": "execute_result",
          "data": {
            "text/plain": [
              "0.4714828897338403"
            ]
          },
          "metadata": {
            "tags": []
          },
          "execution_count": 52
        }
      ]
    },
    {
      "cell_type": "code",
      "metadata": {
        "id": "iA7dOFgwHKlE",
        "colab_type": "code",
        "colab": {
          "base_uri": "https://localhost:8080/",
          "height": 35
        },
        "outputId": "15efef4e-03fe-41d8-cf3d-ff234cb0cdcc"
      },
      "source": [
        "stats.ttest_ind(rep['immigration'], dem['immigration'], nan_policy='omit')\n",
        "\n",
        "#damn, so close but not good enough\n"
      ],
      "execution_count": 53,
      "outputs": [
        {
          "output_type": "execute_result",
          "data": {
            "text/plain": [
              "Ttest_indResult(statistic=1.7359117329695164, pvalue=0.08330248490425066)"
            ]
          },
          "metadata": {
            "tags": []
          },
          "execution_count": 53
        }
      ]
    },
    {
      "cell_type": "code",
      "metadata": {
        "id": "UAfRHD4PHuWq",
        "colab_type": "code",
        "colab": {
          "base_uri": "https://localhost:8080/",
          "height": 35
        },
        "outputId": "3f6ca85e-cc3f-4e6b-c60d-4ed30dd8f813"
      },
      "source": [
        "rep['water-project'].mean()"
      ],
      "execution_count": 54,
      "outputs": [
        {
          "output_type": "execute_result",
          "data": {
            "text/plain": [
              "0.5067567567567568"
            ]
          },
          "metadata": {
            "tags": []
          },
          "execution_count": 54
        }
      ]
    },
    {
      "cell_type": "code",
      "metadata": {
        "id": "taKzcjqkHuhh",
        "colab_type": "code",
        "colab": {
          "base_uri": "https://localhost:8080/",
          "height": 35
        },
        "outputId": "de1f24c9-93bf-499e-e12a-d48527228133"
      },
      "source": [
        "dem['water-project'].mean()"
      ],
      "execution_count": 55,
      "outputs": [
        {
          "output_type": "execute_result",
          "data": {
            "text/plain": [
              "0.502092050209205"
            ]
          },
          "metadata": {
            "tags": []
          },
          "execution_count": 55
        }
      ]
    },
    {
      "cell_type": "code",
      "metadata": {
        "id": "L-BBppBRHuqZ",
        "colab_type": "code",
        "colab": {
          "base_uri": "https://localhost:8080/",
          "height": 35
        },
        "outputId": "b68598d4-f071-4554-d3a2-04c7cf20f4b2"
      },
      "source": [
        "#there we go\n",
        "stats.ttest_ind(rep['water-project'], dem['water-project'], nan_policy='omit')"
      ],
      "execution_count": 56,
      "outputs": [
        {
          "output_type": "execute_result",
          "data": {
            "text/plain": [
              "Ttest_indResult(statistic=0.08896538137868286, pvalue=0.9291556823993485)"
            ]
          },
          "metadata": {
            "tags": []
          },
          "execution_count": 56
        }
      ]
    },
    {
      "cell_type": "code",
      "metadata": {
        "id": "B__PFMRJHbJk",
        "colab_type": "code",
        "colab": {}
      },
      "source": [
        ""
      ],
      "execution_count": 0,
      "outputs": []
    },
    {
      "cell_type": "markdown",
      "metadata": {
        "colab_type": "text",
        "id": "FMhDKOFND0qY"
      },
      "source": [
        "## Student's T Test\n",
        "\n",
        ">Assuming data come from a Normal distribution, the t test provides a way to test whether the sample mean (that is the mean calculated from the data) is a good estimate of the population mean. \n",
        "\n",
        "The derivation of the t-distribution was first published in 1908 by William Gosset while working for the Guinness Brewery in Dublin. Due to proprietary issues, he had to publish under a pseudonym, and so he used the name Student.\n",
        "\n",
        "The t-distribution is essentially a distribution of means of normaly distributed data. When we use a t-statistic, we are  checking that a mean fails within a certain $\\alpha$ probability of the mean of means."
      ]
    },
    {
      "cell_type": "markdown",
      "metadata": {
        "colab_type": "text",
        "id": "wiq83guLcuAE"
      },
      "source": [
        "# Resources\n",
        "\n",
        "- https://homepage.divms.uiowa.edu/~mbognar/applets/t.html\n",
        "- https://rpsychologist.com/d3/tdist/\n",
        "- https://gallery.shinyapps.io/tdist/\n",
        "- https://en.wikipedia.org/wiki/Standard_deviation#Sample_standard_deviation_of_metabolic_rate_of_northern_fulmars\n",
        "- https://www.khanacademy.org/math/ap-statistics/two-sample-inference/two-sample-t-test-means/v/two-sample-t-test-for-difference-of-means"
      ]
    }
  ]
}